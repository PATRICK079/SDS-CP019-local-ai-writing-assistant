{
 "cells": [
  {
   "cell_type": "code",
   "id": "initial_id",
   "metadata": {
    "collapsed": true,
    "ExecuteTime": {
     "end_time": "2024-12-31T17:45:48.197063Z",
     "start_time": "2024-12-31T17:45:48.064026Z"
    }
   },
   "source": [
    "import ollama\n",
    "import gradio as gr\n",
    "import requests\n",
    "from bs4 import BeautifulSoup\n",
    "from IPython.display import Markdown, display\n",
    "MODEL = \"llama3.2\""
   ],
   "outputs": [],
   "execution_count": 26
  },
  {
   "metadata": {},
   "cell_type": "markdown",
   "source": "## Short Story Creator",
   "id": "c65a268b5e67fe05"
  },
  {
   "metadata": {
    "ExecuteTime": {
     "end_time": "2024-12-31T17:26:10.697316Z",
     "start_time": "2024-12-31T17:26:10.694477Z"
    }
   },
   "cell_type": "code",
   "source": [
    "# Constants\n",
    "#user prompt args\n",
    "GENRES = [\"Fiction\", \"Nonfiction\", \"Drama\", \"Poetry\", \"Fantasy\", \"Horror\", \"Mystery\", \"Science Fiction\", \"Suspense\", \"Women's fiction\", \"Supernatural/Paranormal\", \"Suspense\", \"Young adult\"]\n",
    "THEMES = [\"Love\", \"Redemption\", \"Forgiveness\", \"Coming of age\", \"Revenge\", \"Good vs evil\", \"Bravery and hardship\", \"The power of social status\",\"The destructive nature of love\", \"The fallibility of the human condition\"]\n",
    "WRITING_STYLES = [\"Expository\", \"Narrative\", \"Descriptive\", \"Persuasive\", \"creative\"]\n",
    "TONES = [\"Formal\", \"Formal\", \"Optimistic\", \"Worried\", \"Friendly\", \"Curious\", \"Assertive\", \"Encouraging\"]"
   ],
   "id": "14349761e0187f2",
   "outputs": [],
   "execution_count": 4
  },
  {
   "metadata": {
    "ExecuteTime": {
     "end_time": "2024-12-31T17:26:24.352972Z",
     "start_time": "2024-12-31T17:26:24.350723Z"
    }
   },
   "cell_type": "code",
   "source": [
    "def get_story_user_prompt(genre, theme, style, tone):\n",
    "    user_prompt = f\"You are looking at genre: {genre}\\n\"\n",
    "    user_prompt += f\"with the theme: {theme}.\\n\"\n",
    "    user_prompt += f\"Author's writingStyle is: {style}.\\n\"\n",
    "    user_prompt += f\"Tone of the story is: {tone}.\"\n",
    "    user_prompt = user_prompt[:5_000] # Truncate if more than 5,000 characters\n",
    "    return user_prompt"
   ],
   "id": "979e8702df866f2",
   "outputs": [],
   "execution_count": 5
  },
  {
   "metadata": {
    "ExecuteTime": {
     "end_time": "2024-12-31T17:27:06.997907Z",
     "start_time": "2024-12-31T17:27:06.994993Z"
    }
   },
   "cell_type": "code",
   "source": [
    "def create_short_story(genre, theme, style, tone):\n",
    "    response = ollama.chat(model=MODEL, messages=[\n",
    "            {\"role\": \"system\", \"content\": story_system_prompt},\n",
    "            {\"role\": \"user\", \"content\": get_story_user_prompt(genre, theme, style, tone)}\n",
    "          ])\n",
    "    return response['message']['content']"
   ],
   "id": "9faf9ae833aee8df",
   "outputs": [],
   "execution_count": 8
  },
  {
   "metadata": {
    "ExecuteTime": {
     "end_time": "2024-12-31T17:26:51.718074Z",
     "start_time": "2024-12-31T17:26:51.715929Z"
    }
   },
   "cell_type": "code",
   "source": [
    "story_system_prompt = \"You are an creative story writing assistant that takes input like genre, theme, or character type \\\n",
    "and generates a short story.\""
   ],
   "id": "fd4c8dc82ac10717",
   "outputs": [],
   "execution_count": 6
  },
  {
   "metadata": {
    "ExecuteTime": {
     "end_time": "2024-12-31T17:27:30.494618Z",
     "start_time": "2024-12-31T17:27:11.699236Z"
    }
   },
   "cell_type": "code",
   "source": [
    "response = create_short_story(\"Fiction\", \"Bravery and hardship\", \"Creativity\", \"Encouraging\")\n",
    "print(response)"
   ],
   "id": "b906b7b1a37e1315",
   "outputs": [
    {
     "name": "stdout",
     "output_type": "stream",
     "text": [
      "**The Ember of Resilience**\n",
      "\n",
      "In the scorching desert, where dunes stretched like golden seas and sunbeams scorched the earth, a young nomad named Aisha traversed the unforgiving terrain. Her eyes, like two dark stars, shone bright with determination, for she was on a quest to fulfill an unyielding dream.\n",
      "\n",
      "Aisha's village had been ravaged by a brutal sandstorm that left her family homeless and her heart shattered. The loss of her mother, who had taught her the ancient ways of their people, still lingered like an open wound. Yet, Aisha refused to let despair consume her. Instead, she channeled her grief into the flame of resilience that burned within.\n",
      "\n",
      "As she walked, the blistering sun beat down upon her, relentless in its ferocity. The wind howled, threatening to snuff out the ember of hope that flickered within her chest. Yet Aisha persevered, fueled by the memories of her mother's words: \"A brave heart is not one that shuns hardship, but one that finds strength in the face of adversity.\"\n",
      "\n",
      "Days turned into weeks, and the landscape shifted from arid desert to a verdant oasis, where palms swayed in the breeze like nature's own cathedral. It was here that Aisha encountered a wise old man, his eyes kindling with warmth as he beheld her determination.\n",
      "\n",
      "\"Why do you walk this unforgiving path, young one?\" he asked, his voice like a gentle brook.\n",
      "\n",
      "Aisha shared her story, and the old man listened intently, nodding his head in understanding. \"Your mother would be proud of you, Aisha,\" he said, his eyes twinkling with empathy. \"You have taken the fragments of your shattered world and forged them into a tapestry of courage.\"\n",
      "\n",
      "As the days passed, Aisha continued on her journey, facing challenges that tested her resolve. She battled raging sandstorms, navigated treacherous mountain passes, and braved the darkness of unknown nights. With each triumph, the ember within her grew brighter, illuminating the path ahead.\n",
      "\n",
      "And when the winds of fate finally parted to reveal a glimmer of hope, Aisha beheld an oasis unlike any she had ever seen. A shimmering pool of water, reflecting the radiant colors of the setting sun, beckoned her closer. In its tranquil depths, she saw a reflection that was hers alone – a soul tempered by hardship, strengthened by bravery.\n",
      "\n",
      "In that moment, Aisha knew that she had become the very embodiment of resilience, an ember that would burn brightly in the hearts of those who followed. For in the face of adversity, it is not the absence of hardship that defines us, but our ability to kindle a flame of courage that illuminates even the darkest of nights.\n",
      "\n",
      "**Epilogue**\n",
      "\n",
      "As Aisha returned to her village, now rebuilt and stronger than ever, she became a beacon of inspiration to all who knew her. Her story was told and retold around campfires, reminding generations to come of the power of bravery in the face of hardship. And when the winds of fate finally subsided, leaving only a whisper of what once was, Aisha's ember continued to burn, inspiring others to forge their own paths, tempered by the fires of resilience.\n"
     ]
    }
   ],
   "execution_count": 9
  },
  {
   "metadata": {
    "ExecuteTime": {
     "end_time": "2024-12-31T17:27:37.359105Z",
     "start_time": "2024-12-31T17:27:37.186495Z"
    }
   },
   "cell_type": "code",
   "source": [
    "# Gradio UI\n",
    "gr.Interface(fn=create_short_story, inputs=[gr.Dropdown(GENRES, label=\"genre\", info=\"select your story genre\"),\n",
    "                                gr.Dropdown(THEMES, label=\"theme\", info=\"select your story theme\"),\n",
    "                                gr.Dropdown(WRITING_STYLES, label=\"style\", info=\"select writingStyle\"),\n",
    "                                gr.Dropdown(TONES, label=\"tone\", info=\"select the tone\")\n",
    "             ], outputs=\"textarea\").launch()"
   ],
   "id": "2261c20b7f1ca9cf",
   "outputs": [
    {
     "name": "stdout",
     "output_type": "stream",
     "text": [
      "* Running on local URL:  http://127.0.0.1:7860\n",
      "\n",
      "To create a public link, set `share=True` in `launch()`.\n"
     ]
    },
    {
     "data": {
      "text/plain": [
       "<IPython.core.display.HTML object>"
      ],
      "text/html": [
       "<div><iframe src=\"http://127.0.0.1:7860/\" width=\"100%\" height=\"500\" allow=\"autoplay; camera; microphone; clipboard-read; clipboard-write;\" frameborder=\"0\" allowfullscreen></iframe></div>"
      ]
     },
     "metadata": {},
     "output_type": "display_data"
    },
    {
     "data": {
      "text/plain": []
     },
     "execution_count": 10,
     "metadata": {},
     "output_type": "execute_result"
    }
   ],
   "execution_count": 10
  },
  {
   "metadata": {},
   "cell_type": "markdown",
   "source": "## Building Chatbot",
   "id": "500e2e16d5a56278"
  },
  {
   "metadata": {
    "ExecuteTime": {
     "end_time": "2024-12-31T17:37:45.014779Z",
     "start_time": "2024-12-31T17:37:45.012014Z"
    }
   },
   "cell_type": "code",
   "source": [
    "# Constants\n",
    "system_message = \"You are an optimistic assistant and will respond to user queries with positivity\"\n"
   ],
   "id": "9e6c5c36932fcb9e",
   "outputs": [],
   "execution_count": 18
  },
  {
   "metadata": {
    "ExecuteTime": {
     "end_time": "2024-12-31T17:37:48.233549Z",
     "start_time": "2024-12-31T17:37:48.228659Z"
    }
   },
   "cell_type": "code",
   "source": [
    "def chat(message, history):\n",
    "    messages = [{\"role\": \"system\", \"content\": system_message}] + history + [{\"role\": \"user\", \"content\": message}]\n",
    "\n",
    "    print(\"History is:\")\n",
    "    print(history)\n",
    "    print(\"And messages is:\")\n",
    "    print(messages)\n",
    "\n",
    "    stream = ollama.chat(model=MODEL, messages=messages, stream=True)\n",
    "\n",
    "    response = \"\"\n",
    "    for chunk in stream:\n",
    "         if 'message' in chunk and 'content' in chunk['message']:\n",
    "            chunk_text = chunk['message']['content']\n",
    "            response += chunk_text or \"\"\n",
    "            yield response"
   ],
   "id": "c9fdfb0bc167a4f5",
   "outputs": [],
   "execution_count": 19
  },
  {
   "metadata": {
    "ExecuteTime": {
     "end_time": "2024-12-31T17:43:53.409328Z",
     "start_time": "2024-12-31T17:43:53.272919Z"
    }
   },
   "cell_type": "code",
   "source": [
    "# gradio UI\n",
    "gr.ChatInterface(fn=chat,\n",
    "                 type='messages',\n",
    "                 chatbot=gr.Chatbot(height=300),\n",
    "    textbox=gr.Textbox(placeholder=\"Type Question Here\", container=False, scale=3),\n",
    "    title=\"helpful Assistant\",\n",
    "    description=\"Ask me a question and I will give you an helpful answer\",\n",
    "    theme=\"Glass\",\n",
    "    examples=[\"Will the sky fall today?\", \"were dinosaur existed before?\", \"Advantages of work life balance\", \"Is yes yes and a no a no\"]).launch()"
   ],
   "id": "aa7b3b217e988bdb",
   "outputs": [
    {
     "name": "stderr",
     "output_type": "stream",
     "text": [
      "/Users/sivaram/Developer/SDS/SDS-CP019-local-ai-writing-assistant/.venv/lib/python3.12/site-packages/gradio/components/chatbot.py:242: UserWarning: You have not specified a value for the `type` parameter. Defaulting to the 'tuples' format for chatbot messages, but this is deprecated and will be removed in a future version of Gradio. Please set type='messages' instead, which uses openai-style dictionaries with 'role' and 'content' keys.\n",
      "  warnings.warn(\n",
      "/Users/sivaram/Developer/SDS/SDS-CP019-local-ai-writing-assistant/.venv/lib/python3.12/site-packages/gradio/chat_interface.py:222: UserWarning: The type of the gr.Chatbot does not match the type of the gr.ChatInterface.The type of the gr.ChatInterface, 'messages', will be used.\n",
      "  warnings.warn(\n"
     ]
    },
    {
     "name": "stdout",
     "output_type": "stream",
     "text": [
      "* Running on local URL:  http://127.0.0.1:7870\n",
      "\n",
      "To create a public link, set `share=True` in `launch()`.\n"
     ]
    },
    {
     "data": {
      "text/plain": [
       "<IPython.core.display.HTML object>"
      ],
      "text/html": [
       "<div><iframe src=\"http://127.0.0.1:7870/\" width=\"100%\" height=\"500\" allow=\"autoplay; camera; microphone; clipboard-read; clipboard-write;\" frameborder=\"0\" allowfullscreen></iframe></div>"
      ]
     },
     "metadata": {},
     "output_type": "display_data"
    },
    {
     "data": {
      "text/plain": []
     },
     "execution_count": 25,
     "metadata": {},
     "output_type": "execute_result"
    }
   ],
   "execution_count": 25
  },
  {
   "metadata": {},
   "cell_type": "markdown",
   "source": "## Website Summarizer",
   "id": "ea376d2eaa2ab736"
  },
  {
   "metadata": {
    "ExecuteTime": {
     "end_time": "2024-12-31T17:45:55.540331Z",
     "start_time": "2024-12-31T17:45:55.536838Z"
    }
   },
   "cell_type": "code",
   "source": [
    " # A class to represent a Webpage\n",
    "\n",
    "class Website:\n",
    "    \"\"\"\n",
    "    A utility class to represent a Website that we have scraped\n",
    "    \"\"\"\n",
    "    url: str\n",
    "    title: str\n",
    "    text: str\n",
    "\n",
    "    def __init__(self, url):\n",
    "        \"\"\"\n",
    "        Create this Website object from the given url using the BeautifulSoup library\n",
    "        \"\"\"\n",
    "        self.url = url\n",
    "        response = requests.get(url)\n",
    "        soup = BeautifulSoup(response.content, 'html.parser')\n",
    "        self.title = soup.title.string if soup.title else \"No title found\"\n",
    "        for irrelevant in soup.body([\"script\", \"style\", \"img\", \"input\"]):\n",
    "            irrelevant.decompose()\n",
    "        self.text = soup.body.get_text(separator=\"\\n\", strip=True)"
   ],
   "id": "e8f54dce0416797d",
   "outputs": [],
   "execution_count": 27
  },
  {
   "metadata": {
    "ExecuteTime": {
     "end_time": "2025-01-01T00:25:16.355591Z",
     "start_time": "2025-01-01T00:25:16.348088Z"
    }
   },
   "cell_type": "code",
   "source": [
    "# Define our system prompt\n",
    "system_prompt = \"You are a creative writing assistant that analyzes the contents of a website \\\n",
    "and provides a short summary, ignoring text that might be navigation related. \\\n",
    "Respond with key points.\""
   ],
   "id": "bc61bfc4dcfc0ca0",
   "outputs": [],
   "execution_count": 189
  },
  {
   "metadata": {
    "ExecuteTime": {
     "end_time": "2025-01-01T00:30:29.294043Z",
     "start_time": "2025-01-01T00:30:29.285806Z"
    }
   },
   "cell_type": "code",
   "source": [
    "# A function that writes a User Prompt that asks for summaries of websites:\n",
    "\n",
    "def user_prompt_for(website):\n",
    "    user_prompt = f\"You are looking at a website titled {website.title}\"\n",
    "    user_prompt += \"The contents of this website is as follows; \\\n",
    "please provide a short, crisp summary of this website with key points. \\\n",
    "If it includes news or announcements, then summarize these too.\\n\\n\"\n",
    "    user_prompt += website.text\n",
    "    return user_prompt"
   ],
   "id": "2e37f352bee4732",
   "outputs": [],
   "execution_count": 191
  },
  {
   "metadata": {
    "ExecuteTime": {
     "end_time": "2025-01-01T00:30:32.369941Z",
     "start_time": "2025-01-01T00:30:32.364924Z"
    }
   },
   "cell_type": "code",
   "source": [
    "def get_urls_from_prompt(prompt):\n",
    "    urls=[]\n",
    "    if prompt is not None:\n",
    "        x= prompt.split()\n",
    "        for i in x:\n",
    "            if i.find(\"https:\")==0 or i.find(\"http:\")==0:\n",
    "                urls.append(i)\n",
    "    return urls"
   ],
   "id": "8c185a1ffb9f498a",
   "outputs": [],
   "execution_count": 192
  },
  {
   "metadata": {
    "ExecuteTime": {
     "end_time": "2025-01-01T00:30:34.811939Z",
     "start_time": "2025-01-01T00:30:34.806564Z"
    }
   },
   "cell_type": "code",
   "source": [
    "def summarizer_bot(prompt, history):\n",
    "    url = get_urls_from_prompt(prompt)\n",
    "    try:\n",
    "       prompt += user_prompt_for(Website(url[0]))\n",
    "    except:\n",
    "       prompt += \"No URL provided\"\n",
    "\n",
    "    messages = [\n",
    "            {\"role\":\"assistant\", \"content\":system_prompt},\n",
    "            {\"role\":\"user\", \"content\": prompt}\n",
    "        ]\n",
    "    result = ollama.chat(model=MODEL, messages=messages, stream= True)\n",
    "    response = \"\"\n",
    "    for chunk in result:\n",
    "        if 'message' in chunk and 'content' in chunk['message']:\n",
    "            chunk_text = chunk['message']['content']\n",
    "            response += chunk_text or \"\"\n",
    "            yield response\n",
    "\n"
   ],
   "id": "62f206a0b8fbac39",
   "outputs": [],
   "execution_count": 193
  },
  {
   "metadata": {
    "ExecuteTime": {
     "end_time": "2025-01-01T00:32:25.347799Z",
     "start_time": "2025-01-01T00:32:25.196704Z"
    }
   },
   "cell_type": "code",
   "source": [
    "gr.ChatInterface(\n",
    "    fn=summarizer_bot,\n",
    "    type=\"messages\",\n",
    "    chatbot=gr.Chatbot(height=300),\n",
    "    textbox=gr.Textbox(placeholder=\"Type Question Here\", container=False, scale=3),\n",
    "    title=\"Summarizer bot\",\n",
    "    description=\"Give me the link to a website for which you want a summary of the contents of this website.\",\n",
    "    theme=\"Glass\"\n",
    "    ).launch()"
   ],
   "id": "eab80fc2187dffed",
   "outputs": [
    {
     "name": "stderr",
     "output_type": "stream",
     "text": [
      "/Users/sivaram/Developer/SDS/SDS-CP019-local-ai-writing-assistant/.venv/lib/python3.12/site-packages/gradio/components/chatbot.py:242: UserWarning: You have not specified a value for the `type` parameter. Defaulting to the 'tuples' format for chatbot messages, but this is deprecated and will be removed in a future version of Gradio. Please set type='messages' instead, which uses openai-style dictionaries with 'role' and 'content' keys.\n",
      "  warnings.warn(\n",
      "/Users/sivaram/Developer/SDS/SDS-CP019-local-ai-writing-assistant/.venv/lib/python3.12/site-packages/gradio/chat_interface.py:222: UserWarning: The type of the gr.Chatbot does not match the type of the gr.ChatInterface.The type of the gr.ChatInterface, 'messages', will be used.\n",
      "  warnings.warn(\n"
     ]
    },
    {
     "name": "stdout",
     "output_type": "stream",
     "text": [
      "* Running on local URL:  http://127.0.0.1:7874\n",
      "\n",
      "To create a public link, set `share=True` in `launch()`.\n"
     ]
    },
    {
     "data": {
      "text/plain": [
       "<IPython.core.display.HTML object>"
      ],
      "text/html": [
       "<div><iframe src=\"http://127.0.0.1:7874/\" width=\"100%\" height=\"500\" allow=\"autoplay; camera; microphone; clipboard-read; clipboard-write;\" frameborder=\"0\" allowfullscreen></iframe></div>"
      ]
     },
     "metadata": {},
     "output_type": "display_data"
    },
    {
     "data": {
      "text/plain": []
     },
     "execution_count": 195,
     "metadata": {},
     "output_type": "execute_result"
    }
   ],
   "execution_count": 195
  },
  {
   "metadata": {},
   "cell_type": "code",
   "outputs": [],
   "execution_count": null,
   "source": "",
   "id": "45d88f8bf2b7fc7"
  }
 ],
 "metadata": {
  "kernelspec": {
   "display_name": "Python 3",
   "language": "python",
   "name": "python3"
  },
  "language_info": {
   "codemirror_mode": {
    "name": "ipython",
    "version": 2
   },
   "file_extension": ".py",
   "mimetype": "text/x-python",
   "name": "python",
   "nbconvert_exporter": "python",
   "pygments_lexer": "ipython2",
   "version": "2.7.6"
  }
 },
 "nbformat": 4,
 "nbformat_minor": 5
}
