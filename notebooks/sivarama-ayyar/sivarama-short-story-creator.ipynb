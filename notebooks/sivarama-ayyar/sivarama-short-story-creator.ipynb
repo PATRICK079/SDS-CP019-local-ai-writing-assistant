{
 "cells": [
  {
   "cell_type": "markdown",
   "id": "d15d8294-3328-4e07-ad16-8a03e9bbfdb9",
   "metadata": {},
   "source": [
    "# Short Story Creator\n",
    "\n"
   ]
  },
  {
   "cell_type": "code",
   "id": "4e2a9393-7767-488e-a8bf-27c12dca35bd",
   "metadata": {
    "ExecuteTime": {
     "end_time": "2024-12-31T03:29:36.866843Z",
     "start_time": "2024-12-31T03:29:36.807065Z"
    }
   },
   "source": [
    "# imports\n",
    "import ollama"
   ],
   "outputs": [],
   "execution_count": 4
  },
  {
   "cell_type": "code",
   "id": "29ddd15d-a3c5-4f4e-a678-873f56162724",
   "metadata": {
    "ExecuteTime": {
     "end_time": "2024-12-31T03:29:39.107639Z",
     "start_time": "2024-12-31T03:29:39.105340Z"
    }
   },
   "source": [
    "# Constants\n",
    "MODEL = \"llama3.2\"\n",
    "\n",
    "#user prompt args\n",
    "GENRES = [\"Fiction\", \"Nonfiction\", \"Drama\", \"Poetry\", \"Fantasy\", \"Horror\", \"Mystery\", \"Science Fiction\", \"Suspense\", \"Women's fiction\", \"Supernatural/Paranormal\", \"Suspense\", \"Young adult\"]\n",
    "THEMES = [\"Love\", \"Redemption\", \"Forgiveness\", \"Coming of age\", \"Revenge\", \"Good vs evil\", \"Bravery and hardship\", \"The power of social status\",\"The destructive nature of love\", \"The fallibility of the human condition\"]\n",
    "WRITING_STYLES = [\"Expository\", \"Narrative\", \"Descriptive\", \"Persuasive\", \"creative\"]\n",
    "TONES = [\"Formal\", \"Formal\", \"Optimistic\", \"Worried\", \"Friendly\", \"Curious\", \"Assertive\", \"Encouraging\"]"
   ],
   "outputs": [],
   "execution_count": 5
  },
  {
   "cell_type": "code",
   "id": "192107c0-bb16-495e-98d7-6b12a8060a08",
   "metadata": {
    "ExecuteTime": {
     "end_time": "2024-12-31T03:29:42.345843Z",
     "start_time": "2024-12-31T03:29:42.342316Z"
    }
   },
   "source": [
    "def get_story_user_prompt(genre, theme, style, tone):\n",
    "    user_prompt = f\"You are looking at genre: {genre}\\n\"\n",
    "    user_prompt += f\"with the theme: {theme}.\\n\"\n",
    "    user_prompt += f\"Author's writingStyle is: {style}.\\n\"\n",
    "    user_prompt += f\"Tone of the story is: {tone}.\"\n",
    "    user_prompt = user_prompt[:5_000] # Truncate if more than 5,000 characters\n",
    "    return user_prompt"
   ],
   "outputs": [],
   "execution_count": 6
  },
  {
   "cell_type": "code",
   "id": "dac0a679-599c-441f-9bf2-ddc73d35b940",
   "metadata": {
    "ExecuteTime": {
     "end_time": "2024-12-31T03:29:45.265143Z",
     "start_time": "2024-12-31T03:29:45.261003Z"
    }
   },
   "source": [
    "def create_short_story(genre, theme, style, tone):\n",
    "    response = ollama.chat(model=MODEL, messages=[\n",
    "            {\"role\": \"system\", \"content\": story_system_prompt},\n",
    "            {\"role\": \"user\", \"content\": get_story_user_prompt(genre, theme, style, tone)}\n",
    "          ])\n",
    "    return response['message']['content']\n"
   ],
   "outputs": [],
   "execution_count": 7
  },
  {
   "cell_type": "code",
   "id": "2a6cb86f-1a72-4765-94b5-1f38196acb93",
   "metadata": {
    "ExecuteTime": {
     "end_time": "2024-12-31T03:29:47.908219Z",
     "start_time": "2024-12-31T03:29:47.905452Z"
    }
   },
   "source": [
    "story_system_prompt = \"You are an creative story writing assistant that takes input like genre, theme, or character type \\\n",
    "and generates a short story.\""
   ],
   "outputs": [],
   "execution_count": 8
  },
  {
   "cell_type": "code",
   "id": "42b9f644-522d-4e05-a691-56e7658c0ea9",
   "metadata": {
    "ExecuteTime": {
     "end_time": "2024-12-31T03:30:02.883769Z",
     "start_time": "2024-12-31T03:29:50.382474Z"
    }
   },
   "source": [
    "response = create_short_story(\"Fiction\", \"Bravery and hardship\", \"Creativity\", \"Encouraging\")\n",
    "print(response)"
   ],
   "outputs": [
    {
     "name": "stdout",
     "output_type": "stream",
     "text": [
      "**The Ember of Courage**\n",
      "\n",
      "In the depths of the scorching desert, where sand dunes stretched like golden giants and the sun beat down relentlessly, a young traveler named Aria trudged through the unforgiving terrain. Her feet were parched, her canteen was almost empty, and her heart was heavy with doubt.\n",
      "\n",
      "Aria had been on the run for days, fleeing the brutal regime that had ravaged her homeland. She had lost everything – her family, her home, her sense of purpose. But she refused to lose herself.\n",
      "\n",
      "As she crested a dune, Aria spotted a figure in the distance. It was an old man, shrouded in a worn cloak, his face etched with lines of wisdom and weariness. He beckoned her closer, his eyes burning with an inner fire that seemed to pierce the desert's soul.\n",
      "\n",
      "\"Who are you?\" Aria called out, her voice hoarse from thirst and exhaustion.\n",
      "\n",
      "\"I am Kael,\" the old man replied, his voice like a gentle breeze on a summer day. \"And you, young one, are braver than you think.\"\n",
      "\n",
      "Kael handed Aria a small flask of water, which she devoured like a lifeline. As they walked together, he told her stories of his own struggles – of the hardships he had faced and overcome, of the people he had helped and healed.\n",
      "\n",
      "Aria listened, entranced by Kael's words, as the desert sun began to set behind them. She felt a spark within her ignite, a flame that threatened to consume her fears and doubts.\n",
      "\n",
      "As night fell, Aria asked Kael why he had chosen to help her, a stranger in need. Kael smiled, his eyes twinkling like stars in the darkness.\n",
      "\n",
      "\"Because,\" he said, \"we are all travelers on this earth, searching for our way. And sometimes, it's the bravest acts that are performed not in grand gestures, but in small, quiet moments of kindness and compassion.\"\n",
      "\n",
      "Aria nodded, her heart swelling with understanding. She realized that bravery wasn't about avoiding hardship; it was about facing it head-on, with courage and determination.\n",
      "\n",
      "As she lay down to rest beside Kael, Aria felt a sense of peace wash over her. The desert night air was filled with the sweet scent of jasmine, and the stars above twinkled like diamonds in the sky.\n",
      "\n",
      "In that moment, Aria knew that she would carry Kael's words with her always – that no matter what hardships lay ahead, she would face them with bravery and resilience, knowing that the embers of courage burned brightly within her soul.\n",
      "\n",
      "**The End**\n",
      "\n",
      "Please let me know if you want any changes or if this meets your expectations!\n"
     ]
    }
   ],
   "execution_count": 9
  },
  {
   "metadata": {},
   "cell_type": "markdown",
   "source": "## Gradio UI",
   "id": "1ed3a7bd08d88bc6"
  },
  {
   "metadata": {
    "ExecuteTime": {
     "end_time": "2024-12-31T03:30:07.107635Z",
     "start_time": "2024-12-31T03:30:07.104660Z"
    }
   },
   "cell_type": "code",
   "source": "import gradio as gr",
   "id": "34fff5e48cad9828",
   "outputs": [],
   "execution_count": 10
  },
  {
   "metadata": {
    "ExecuteTime": {
     "end_time": "2024-12-31T03:30:10.557136Z",
     "start_time": "2024-12-31T03:30:10.393407Z"
    }
   },
   "cell_type": "code",
   "source": [
    "gr.Interface(fn=create_short_story, inputs=[gr.Dropdown(GENRES, label=\"genre\", info=\"select your story genre\"),\n",
    "                                gr.Dropdown(THEMES, label=\"theme\", info=\"select your story theme\"),\n",
    "                                gr.Dropdown(WRITING_STYLES, label=\"style\", info=\"select writingStyle\"),\n",
    "                                gr.Dropdown(TONES, label=\"tone\", info=\"select the tone\")\n",
    "             ], outputs=\"textarea\").launch()"
   ],
   "id": "9a820b64a4f16712",
   "outputs": [
    {
     "name": "stdout",
     "output_type": "stream",
     "text": [
      "* Running on local URL:  http://127.0.0.1:7860\n",
      "\n",
      "To create a public link, set `share=True` in `launch()`.\n"
     ]
    },
    {
     "data": {
      "text/plain": [
       "<IPython.core.display.HTML object>"
      ],
      "text/html": [
       "<div><iframe src=\"http://127.0.0.1:7860/\" width=\"100%\" height=\"500\" allow=\"autoplay; camera; microphone; clipboard-read; clipboard-write;\" frameborder=\"0\" allowfullscreen></iframe></div>"
      ]
     },
     "metadata": {},
     "output_type": "display_data"
    },
    {
     "data": {
      "text/plain": []
     },
     "execution_count": 11,
     "metadata": {},
     "output_type": "execute_result"
    }
   ],
   "execution_count": 11
  },
  {
   "metadata": {},
   "cell_type": "code",
   "outputs": [],
   "execution_count": null,
   "source": "",
   "id": "3880c1262e038df"
  }
 ],
 "metadata": {
  "kernelspec": {
   "display_name": "Python 3 (ipykernel)",
   "language": "python",
   "name": "python3"
  },
  "language_info": {
   "codemirror_mode": {
    "name": "ipython",
    "version": 3
   },
   "file_extension": ".py",
   "mimetype": "text/x-python",
   "name": "python",
   "nbconvert_exporter": "python",
   "pygments_lexer": "ipython3",
   "version": "3.11.6"
  }
 },
 "nbformat": 4,
 "nbformat_minor": 5
}
