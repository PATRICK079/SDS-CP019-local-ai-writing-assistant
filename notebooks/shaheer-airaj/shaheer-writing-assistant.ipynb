{
 "cells": [
  {
   "cell_type": "code",
   "execution_count": 1,
   "metadata": {},
   "outputs": [
    {
     "name": "stderr",
     "output_type": "stream",
     "text": [
      "/home/shaheer/Documents/community-projects/ongoing/SDS-CP019-local-ai-writing-assistant/.venv/lib/python3.12/site-packages/tqdm/auto.py:21: TqdmWarning: IProgress not found. Please update jupyter and ipywidgets. See https://ipywidgets.readthedocs.io/en/stable/user_install.html\n",
      "  from .autonotebook import tqdm as notebook_tqdm\n"
     ]
    }
   ],
   "source": [
    "import ollama\n",
    "import gradio as gr\n",
    "\n",
    "MODEL=\"llama2\""
   ]
  },
  {
   "cell_type": "code",
   "execution_count": 2,
   "metadata": {},
   "outputs": [],
   "source": [
    "messages = [\n",
    "    {\"role\":\"assistant\",\"content\":\"You are an unhelpful assistant and will respond to user queries with sarcasm\"},\n",
    "    {\"role\":\"user\",\"content\":\"What is the capital of france\"}\n",
    "]"
   ]
  },
  {
   "cell_type": "code",
   "execution_count": 3,
   "metadata": {},
   "outputs": [],
   "source": [
    "response = ollama.chat(model=MODEL, messages=messages)"
   ]
  },
  {
   "cell_type": "code",
   "execution_count": null,
   "metadata": {},
   "outputs": [],
   "source": [
    "print(response['message']['content'])"
   ]
  },
  {
   "cell_type": "markdown",
   "metadata": {},
   "source": [
    "## Building a chatbot"
   ]
  },
  {
   "cell_type": "code",
   "execution_count": null,
   "metadata": {},
   "outputs": [],
   "source": [
    "# Simple chat code logic\n",
    "\n",
    "def simple_chat():\n",
    "\n",
    "    system_message = \"You are an unhelpful assistant and will respond to user queries with sarcasm\"\n",
    "    print(\"Hello. I am your personal unhelpful assistant. How can I help you today?\")\n",
    "    \n",
    "    user_input = input(\"You: \")\n",
    "\n",
    "    while user_input != '/bye':\n",
    "        messages.append({\"role\":\"user\",\"content\":user_input})\n",
    "        resp = ollama.chat(model=MODEL, messages=messages)\n",
    "        messages.append({\"role\":\"assistant\",\"content\":resp['message']['content']})\n",
    "        print(resp['message']['content'])\n",
    "        user_input = input(\"You: \")\n",
    "\n",
    "    return print(\"You have exited the chat!\")\n"
   ]
  },
  {
   "cell_type": "code",
   "execution_count": 2,
   "metadata": {},
   "outputs": [],
   "source": [
    "# Chat function for Gradio\n",
    "\n",
    "def chat_llama2(prompt, history):\n",
    "    system_message = \"You are an unhelpful assistant and will respond to user queries with sarcasm\"\n",
    "    \n",
    "    messages = [\n",
    "        {\"role\":\"assistant\",\"content\":system_message},\n",
    "        {\"role\":\"user\",\"content\":prompt}\n",
    "    ]\n",
    "\n",
    "    result = ollama.chat(\n",
    "        model=\"llama2\",\n",
    "        messages=messages,\n",
    "        stream=True         # allows us to stream the resulting response instead of displaying the entire output at once\n",
    "        )\n",
    "    \n",
    "    # streaming the response from the model\n",
    "    # this prints out each output token form the model to have the resulting text displayed in real time\n",
    "    response = \"\"\n",
    "    for chunk in result:\n",
    "        if 'message' in chunk and 'content' in chunk['message']:\n",
    "            chunk_text = chunk['message']['content']\n",
    "            response += chunk_text or \"\"\n",
    "            yield response"
   ]
  },
  {
   "cell_type": "markdown",
   "metadata": {},
   "source": [
    "### Gradio UI with a high level wrapper (ChatInterface)"
   ]
  },
  {
   "cell_type": "code",
   "execution_count": 3,
   "metadata": {},
   "outputs": [
    {
     "name": "stderr",
     "output_type": "stream",
     "text": [
      "/home/shaheer/Documents/community-projects/ongoing/SDS-CP019-local-ai-writing-assistant/.venv/lib/python3.12/site-packages/gradio/components/chatbot.py:242: UserWarning: You have not specified a value for the `type` parameter. Defaulting to the 'tuples' format for chatbot messages, but this is deprecated and will be removed in a future version of Gradio. Please set type='messages' instead, which uses openai-style dictionaries with 'role' and 'content' keys.\n",
      "  warnings.warn(\n",
      "/home/shaheer/Documents/community-projects/ongoing/SDS-CP019-local-ai-writing-assistant/.venv/lib/python3.12/site-packages/gradio/chat_interface.py:222: UserWarning: The type of the gr.Chatbot does not match the type of the gr.ChatInterface.The type of the gr.ChatInterface, 'messages', will be used.\n",
      "  warnings.warn(\n"
     ]
    },
    {
     "name": "stdout",
     "output_type": "stream",
     "text": [
      "* Running on local URL:  http://127.0.0.1:7860\n",
      "Caching examples at: '/home/shaheer/Documents/community-projects/ongoing/SDS-CP019-local-ai-writing-assistant/notebooks/shaheer-airaj/.gradio/cached_examples/10'\n",
      "\n",
      "To create a public link, set `share=True` in `launch()`.\n"
     ]
    },
    {
     "data": {
      "text/html": [
       "<div><iframe src=\"http://127.0.0.1:7860/\" width=\"100%\" height=\"500\" allow=\"autoplay; camera; microphone; clipboard-read; clipboard-write;\" frameborder=\"0\" allowfullscreen></iframe></div>"
      ],
      "text/plain": [
       "<IPython.core.display.HTML object>"
      ]
     },
     "metadata": {},
     "output_type": "display_data"
    },
    {
     "data": {
      "text/plain": []
     },
     "execution_count": 3,
     "metadata": {},
     "output_type": "execute_result"
    }
   ],
   "source": [
    "gr.ChatInterface(\n",
    "    fn=chat_llama2,\n",
    "    type=\"messages\",\n",
    "    chatbot=gr.Chatbot(height=300),\n",
    "    textbox=gr.Textbox(placeholder=\"Type Question Here\", container=False, scale=3),\n",
    "    title=\"Unhelpful Assistant\",\n",
    "    description=\"Ask me a question and I will give you an unhelpful answer\",\n",
    "    theme=\"ocean\",\n",
    "    examples=[\"Are tomatoes a vegetable\", \"What is the capital of France\", \"Is yes no and a no a yes\"]\n",
    "    # cache_examples=True\n",
    "    ).launch()"
   ]
  },
  {
   "cell_type": "code",
   "execution_count": null,
   "metadata": {},
   "outputs": [],
   "source": []
  }
 ],
 "metadata": {
  "kernelspec": {
   "display_name": ".venv",
   "language": "python",
   "name": "python3"
  },
  "language_info": {
   "codemirror_mode": {
    "name": "ipython",
    "version": 3
   },
   "file_extension": ".py",
   "mimetype": "text/x-python",
   "name": "python",
   "nbconvert_exporter": "python",
   "pygments_lexer": "ipython3",
   "version": "3.12.3"
  }
 },
 "nbformat": 4,
 "nbformat_minor": 2
}
