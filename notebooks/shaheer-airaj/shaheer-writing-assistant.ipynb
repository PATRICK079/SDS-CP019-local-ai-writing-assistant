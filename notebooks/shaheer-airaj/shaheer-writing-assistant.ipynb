{
 "cells": [
  {
   "cell_type": "code",
   "execution_count": 1,
   "metadata": {},
   "outputs": [
    {
     "name": "stderr",
     "output_type": "stream",
     "text": [
      "c:\\Users\\shahe\\Documents\\SuperDataScience\\Collaborative Projects\\Ongoing\\SDS-CP019-local-ai-writing-assistant\\.venv\\Lib\\site-packages\\tqdm\\auto.py:21: TqdmWarning: IProgress not found. Please update jupyter and ipywidgets. See https://ipywidgets.readthedocs.io/en/stable/user_install.html\n",
      "  from .autonotebook import tqdm as notebook_tqdm\n"
     ]
    }
   ],
   "source": [
    "import ollama\n",
    "import gradio as gr\n",
    "\n",
    "MODEL=\"llama2\""
   ]
  },
  {
   "cell_type": "code",
   "execution_count": 2,
   "metadata": {},
   "outputs": [],
   "source": [
    "messages = [\n",
    "    {\"role\":\"assistant\",\"content\":\"You are an unhelpful assistant and will respond to user queries with sarcasm\"},\n",
    "    {\"role\":\"user\",\"content\":\"What is the capital of france\"}\n",
    "]"
   ]
  },
  {
   "cell_type": "code",
   "execution_count": 3,
   "metadata": {},
   "outputs": [],
   "source": [
    "response = ollama.chat(model=MODEL, messages=messages)"
   ]
  },
  {
   "cell_type": "code",
   "execution_count": null,
   "metadata": {},
   "outputs": [],
   "source": [
    "print(response['message']['content'])"
   ]
  },
  {
   "cell_type": "markdown",
   "metadata": {},
   "source": [
    "## Building a chatbot"
   ]
  },
  {
   "cell_type": "code",
   "execution_count": null,
   "metadata": {},
   "outputs": [],
   "source": [
    "# Simple chat code logic\n",
    "\n",
    "def simple_chat():\n",
    "\n",
    "    system_message = \"You are an unhelpful assistant and will respond to user queries with sarcasm\"\n",
    "    print(\"Hello. I am your personal unhelpful assistant. How can I help you today?\")\n",
    "    \n",
    "    user_input = input(\"You: \")\n",
    "\n",
    "    while user_input != '/bye':\n",
    "        messages.append({\"role\":\"user\",\"content\":user_input})\n",
    "        resp = ollama.chat(model=MODEL, messages=messages)\n",
    "        messages.append({\"role\":\"assistant\",\"content\":resp['message']['content']})\n",
    "        print(resp['message']['content'])\n",
    "        user_input = input(\"You: \")\n",
    "\n",
    "    return print(\"You have exited the chat!\")\n"
   ]
  },
  {
   "cell_type": "code",
   "execution_count": 2,
   "metadata": {},
   "outputs": [],
   "source": [
    "# Chat function for Gradio\n",
    "\n",
    "def chat_llama2(prompt, history):\n",
    "    system_message = \"You are an unhelpful assistant and will respond to user queries with sarcasm\"\n",
    "    \n",
    "    messages = [\n",
    "        {\"role\":\"assistant\",\"content\":system_message},\n",
    "        {\"role\":\"user\",\"content\":prompt}\n",
    "    ]\n",
    "\n",
    "    result = ollama.chat(\n",
    "        model=\"llama2\",\n",
    "        messages=messages,\n",
    "        stream=True         # allows us to stream the resulting response instead of displaying the entire output at once\n",
    "        )\n",
    "    \n",
    "    # streaming the response from the model\n",
    "    # this prints out each output token form the model to have the resulting text displayed in real time\n",
    "    response = \"\"\n",
    "    for chunk in result:\n",
    "        if 'message' in chunk and 'content' in chunk['message']:\n",
    "            chunk_text = chunk['message']['content']\n",
    "            response += chunk_text or \"\"\n",
    "            yield response"
   ]
  },
  {
   "cell_type": "markdown",
   "metadata": {},
   "source": [
    "### Gradio UI with a high level wrapper (ChatInterface)"
   ]
  },
  {
   "cell_type": "code",
   "execution_count": null,
   "metadata": {},
   "outputs": [],
   "source": [
    "gr.ChatInterface(\n",
    "    fn=chat_llama2,\n",
    "    type=\"messages\",\n",
    "    chatbot=gr.Chatbot(height=300),\n",
    "    textbox=gr.Textbox(placeholder=\"Type Question Here\", container=False, scale=3),\n",
    "    title=\"Unhelpful Assistant\",\n",
    "    description=\"Ask me a question and I will give you an unhelpful answer\",\n",
    "    theme=\"ocean\",\n",
    "    examples=[\"Are tomatoes a vegetable\", \"What is the capital of France\", \"Is yes no and a no a yes\"]\n",
    "    # cache_examples=True\n",
    "    ).launch()"
   ]
  },
  {
   "cell_type": "markdown",
   "metadata": {},
   "source": [
    "# Scrapping website to create brochure"
   ]
  },
  {
   "cell_type": "code",
   "execution_count": 2,
   "metadata": {},
   "outputs": [],
   "source": [
    "import requests\n",
    "from bs4 import BeautifulSoup"
   ]
  },
  {
   "cell_type": "code",
   "execution_count": 3,
   "metadata": {},
   "outputs": [],
   "source": [
    "url = \"https://hashpotato.io/\""
   ]
  },
  {
   "cell_type": "code",
   "execution_count": 4,
   "metadata": {},
   "outputs": [],
   "source": [
    "res = requests.get(url)\n",
    "soup = BeautifulSoup(res.content, 'html.parser')\n",
    "# print(soup.body(\"nav\"))"
   ]
  },
  {
   "cell_type": "code",
   "execution_count": 4,
   "metadata": {},
   "outputs": [],
   "source": [
    "class Website:\n",
    "    \"\"\"\n",
    "    A utility class to represent the website to scrape\n",
    "    \"\"\"\n",
    "\n",
    "    def __init__(self, url):\n",
    "        self.url = url\n",
    "        response = requests.get(url)\n",
    "        self.body = response.content\n",
    "        soup = BeautifulSoup(self.body, 'html.parser')\n",
    "        self.title = soup.title.string if soup.title else \"No title found\"\n",
    "\n",
    "        # removing irrelevant information\n",
    "        if soup.body:\n",
    "            for irr in soup.body([\"script\",\"style\",\"img\",\"input\"]):\n",
    "                irr.decompose()\n",
    "            self.text = soup.body.get_text(separator=\"\\n\", strip=True)\n",
    "        else:\n",
    "            self.text = \"\"\n",
    "\n",
    "        links = [link.get('href') for link in soup.find_all('a')]\n",
    "        self.links = [link for link in links if link]\n",
    "\n",
    "    def get_contents(self):\n",
    "        return f\"Webpage Title:\\n{self.title}\\nWebpage Contents:\\n{self.text}\\n\\n\""
   ]
  },
  {
   "cell_type": "code",
   "execution_count": 20,
   "metadata": {},
   "outputs": [],
   "source": [
    "website = Website(url)"
   ]
  },
  {
   "cell_type": "code",
   "execution_count": null,
   "metadata": {},
   "outputs": [],
   "source": [
    "website.text"
   ]
  },
  {
   "cell_type": "code",
   "execution_count": 5,
   "metadata": {},
   "outputs": [],
   "source": [
    "def get_url_from_prompt(prompt):\n",
    "\n",
    "    words = [word for word in prompt.split(\" \")]\n",
    "    url = [word for word in words if 'http' in word]\n",
    "\n",
    "    return url"
   ]
  },
  {
   "cell_type": "code",
   "execution_count": 6,
   "metadata": {},
   "outputs": [],
   "source": [
    "def brochure_bot(prompt, history):\n",
    "\n",
    "    system_prompt = \"You are a creative writing assistant\"\n",
    "    system_prompt += \" and your job is to help write a brochure for the company that the user provides.\"\n",
    "    system_prompt += \" Make sure to keep your responses professional and formal.\"\n",
    "    system_prompt += \" If you do not know information to a question the user provides,\"\n",
    "    system_prompt += \" mention clearly that you do not know the answer.\"\n",
    "    system_prompt += \" Your first task is to ask the user to give you the URL of a website.\"\n",
    "    system_prompt += \" If you do not find one, ask the user for one.\"\n",
    "\n",
    "    url = get_url_from_prompt(prompt)\n",
    "    try:\n",
    "        website_info = Website(url[0]).text\n",
    "        prompt += website_info\n",
    "    except:\n",
    "        prompt += \"No URL provided\"\n",
    "\n",
    "    messages = [\n",
    "        {\"role\":\"assistant\", \"content\":system_prompt},\n",
    "        {\"role\":\"user\", \"content\":prompt}\n",
    "    ]\n",
    "\n",
    "    result = ollama.chat(\n",
    "        model=\"llama2\",\n",
    "        messages=messages,\n",
    "        stream=True         # allows us to stream the resulting response instead of displaying the entire output at once\n",
    "        )\n",
    "    \n",
    "    # streaming the response from the model\n",
    "    # this prints out each output token form the model to have the resulting text displayed in real time\n",
    "    response = \"\"\n",
    "    for chunk in result:\n",
    "        if 'message' in chunk and 'content' in chunk['message']:\n",
    "            chunk_text = chunk['message']['content']\n",
    "            response += chunk_text or \"\"\n",
    "            yield response"
   ]
  },
  {
   "cell_type": "code",
   "execution_count": 7,
   "metadata": {},
   "outputs": [
    {
     "name": "stderr",
     "output_type": "stream",
     "text": [
      "c:\\Users\\shahe\\Documents\\SuperDataScience\\Collaborative Projects\\Ongoing\\SDS-CP019-local-ai-writing-assistant\\.venv\\Lib\\site-packages\\gradio\\components\\chatbot.py:242: UserWarning: You have not specified a value for the `type` parameter. Defaulting to the 'tuples' format for chatbot messages, but this is deprecated and will be removed in a future version of Gradio. Please set type='messages' instead, which uses openai-style dictionaries with 'role' and 'content' keys.\n",
      "  warnings.warn(\n",
      "c:\\Users\\shahe\\Documents\\SuperDataScience\\Collaborative Projects\\Ongoing\\SDS-CP019-local-ai-writing-assistant\\.venv\\Lib\\site-packages\\gradio\\chat_interface.py:222: UserWarning: The type of the gr.Chatbot does not match the type of the gr.ChatInterface.The type of the gr.ChatInterface, 'messages', will be used.\n",
      "  warnings.warn(\n"
     ]
    },
    {
     "name": "stdout",
     "output_type": "stream",
     "text": [
      "* Running on local URL:  http://127.0.0.1:7860\n",
      "\n",
      "To create a public link, set `share=True` in `launch()`.\n"
     ]
    },
    {
     "data": {
      "text/html": [
       "<div><iframe src=\"http://127.0.0.1:7860/\" width=\"100%\" height=\"500\" allow=\"autoplay; camera; microphone; clipboard-read; clipboard-write;\" frameborder=\"0\" allowfullscreen></iframe></div>"
      ],
      "text/plain": [
       "<IPython.core.display.HTML object>"
      ]
     },
     "metadata": {},
     "output_type": "display_data"
    },
    {
     "data": {
      "text/plain": []
     },
     "execution_count": 7,
     "metadata": {},
     "output_type": "execute_result"
    }
   ],
   "source": [
    "# using the same interface as before for the time being\n",
    "gr.ChatInterface(\n",
    "    fn=brochure_bot,\n",
    "    type=\"messages\",\n",
    "    chatbot=gr.Chatbot(height=300),\n",
    "    textbox=gr.Textbox(placeholder=\"Type Question Here\", container=False, scale=3),\n",
    "    title=\"Brochure bot\",\n",
    "    description=\"Give me the link to a website for which you want to generate a brochure\",\n",
    "    theme=\"ocean\"\n",
    "    # examples=[\"Are tomatoes a vegetable\", \"What is the capital of France\", \"Is yes no and a no a yes\"]\n",
    "    # cache_examples=True\n",
    "    ).launch()"
   ]
  },
  {
   "cell_type": "code",
   "execution_count": null,
   "metadata": {},
   "outputs": [],
   "source": []
  }
 ],
 "metadata": {
  "kernelspec": {
   "display_name": ".venv",
   "language": "python",
   "name": "python3"
  },
  "language_info": {
   "codemirror_mode": {
    "name": "ipython",
    "version": 3
   },
   "file_extension": ".py",
   "mimetype": "text/x-python",
   "name": "python",
   "nbconvert_exporter": "python",
   "pygments_lexer": "ipython3",
   "version": "3.12.8"
  }
 },
 "nbformat": 4,
 "nbformat_minor": 2
}
