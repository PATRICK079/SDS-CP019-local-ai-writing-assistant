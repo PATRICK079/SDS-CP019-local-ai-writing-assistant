{
 "cells": [
  {
   "cell_type": "code",
   "execution_count": 3,
   "id": "6d38173d-38b7-41f1-9491-bebef5c994a9",
   "metadata": {},
   "outputs": [],
   "source": [
    "!pip -q install requests;\n",
    "!pip -q install html.parser;\n",
    "!pip -q install bs4;"
   ]
  },
  {
   "cell_type": "markdown",
   "id": "d8fb70fc-2706-40e6-9dcb-c3f3b82c1bf4",
   "metadata": {},
   "source": [
    "Retrieving the first page of the Books To Scrape Website for Five Star Books"
   ]
  },
  {
   "cell_type": "code",
   "execution_count": 7,
   "id": "d2d90c15-073b-41cb-b881-816ece1a91a2",
   "metadata": {},
   "outputs": [
    {
     "name": "stdout",
     "output_type": "stream",
     "text": [
      "Title: Tipping the Velvet\n",
      "Price: £53.74\n",
      "Book URL: https://books.toscrape.com/catalogue/tipping-the-velvet_999/index.html\n",
      "Availability: In stock\n",
      "Image URL: https://books.toscrape.com/media/cache/26/0c/260c6ae16bce31c8f8c95daddd9f4a1c.jpg\n",
      "Star Rating: One\n",
      "\n",
      "\n",
      "Title: Soumission\n",
      "Price: £50.10\n",
      "Book URL: https://books.toscrape.com/catalogue/soumission_998/index.html\n",
      "Availability: In stock\n",
      "Image URL: https://books.toscrape.com/media/cache/3e/ef/3eef99c9d9adef34639f510662022830.jpg\n",
      "Star Rating: One\n",
      "\n",
      "\n",
      "Title: The Requiem Red\n",
      "Price: £22.65\n",
      "Book URL: https://books.toscrape.com/catalogue/the-requiem-red_995/index.html\n",
      "Availability: In stock\n",
      "Image URL: https://books.toscrape.com/media/cache/68/33/68339b4c9bc034267e1da611ab3b34f8.jpg\n",
      "Star Rating: One\n",
      "\n",
      "\n",
      "Title: The Black Maria\n",
      "Price: £52.15\n",
      "Book URL: https://books.toscrape.com/catalogue/the-black-maria_991/index.html\n",
      "Availability: In stock\n",
      "Image URL: https://books.toscrape.com/media/cache/58/46/5846057e28022268153beff6d352b06c.jpg\n",
      "Star Rating: One\n",
      "\n",
      "\n",
      "Title: Olio\n",
      "Price: £23.88\n",
      "Book URL: https://books.toscrape.com/catalogue/olio_984/index.html\n",
      "Availability: In stock\n",
      "Image URL: https://books.toscrape.com/media/cache/55/33/553310a7162dfbc2c6d19a84da0df9e1.jpg\n",
      "Star Rating: One\n",
      "\n",
      "\n",
      "Title: Mesaerion: The Best Science Fiction Stories 1800-1849\n",
      "Price: £37.59\n",
      "Book URL: https://books.toscrape.com/catalogue/mesaerion-the-best-science-fiction-stories-1800-1849_983/index.html\n",
      "Availability: In stock\n",
      "Image URL: https://books.toscrape.com/media/cache/09/a3/09a3aef48557576e1a85ba7efea8ecb7.jpg\n",
      "Star Rating: One\n",
      "\n",
      "\n"
     ]
    }
   ],
   "source": [
    "import requests\n",
    "from bs4 import BeautifulSoup\n",
    "\n",
    "base_url = \"https://books.toscrape.com/\"\n",
    "response = requests.get(base_url)\n",
    "\n",
    "soup = BeautifulSoup(response.text, \"html.parser\")\n",
    "\n",
    "#Retrieve all books with One star ratings\n",
    "\n",
    "for book in soup.find_all(\"article\", {\"class\": \"product_pod\"}):\n",
    "    if book.find(\"p\", {\"class\": \"star-rating One\"}):\n",
    "        try:\n",
    "            title = book.find(\"h3\").find(\"a\")[\"title\"]\n",
    "            price = book.find(\"p\", {\"class\": \"price_color\"}).text[1:]\n",
    "            book_url = base_url + book.find(\"h3\").find(\"a\")[\"href\"]\n",
    "            availability = book.find(\"p\", {\"class\": \"instock availability\"}).get_text(strip=True)\n",
    "            image_url = base_url + book.find(\"img\")[\"src\"]\n",
    "            rating = book.find(\"p\", {\"class\": \"star-rating\"})[\"class\"][1]\n",
    "\n",
    "            print(\"Title: \" + title)\n",
    "            print(\"Price: \" + price)\n",
    "            print(\"Book URL: \" + book_url)\n",
    "            print(\"Availability: \" + availability)\n",
    "            print(\"Image URL: \" + image_url)\n",
    "            print(\"Star Rating: \" + rating)\n",
    "            print(\"\\n\")\n",
    "\n",
    "        except Exception as e:\n",
    "            print(f\"Error processing data for {title}: {e}\")"
   ]
  },
  {
   "cell_type": "markdown",
   "id": "b8155119-470b-4357-a660-ab20febe289a",
   "metadata": {},
   "source": []
  },
  {
   "cell_type": "markdown",
   "id": "d355d8dd-dc0f-4880-82ea-eb6c5c9c7229",
   "metadata": {},
   "source": [
    "#Scraping all the 50 pages of the books.toscrape.com site\n",
    "!pip -q install urllib2"
   ]
  },
  {
   "cell_type": "code",
   "execution_count": 36,
   "id": "ee1a3e98-31c0-491b-bf2d-12bb3b20d5df",
   "metadata": {},
   "outputs": [],
   "source": [
    "# from urllib.request import urlopen\n",
    "# response = urlopen(base_url)"
   ]
  },
  {
   "cell_type": "code",
   "execution_count": 4,
   "id": "e684be4c-0c05-47a9-88c0-687348977c89",
   "metadata": {},
   "outputs": [
    {
     "name": "stdin",
     "output_type": "stream",
     "text": [
      "Please enter the page number upto which you want books listed:  3\n",
      "Please enter the star rating - One, Two, Three, Four or Five or 0 to break: Three\n"
     ]
    },
    {
     "name": "stdout",
     "output_type": "stream",
     "text": [
      "Title: A Light in the Attic\n",
      "Price: £51.77\n",
      "Book URL: https://books.toscrape.coma-light-in-the-attic_1000/index.html\n",
      "Availability: In stock\n",
      "Image URL: https://books.toscrape.com../media/cache/2c/da/2cdad67c44b002e7ead0cc35693c0e8b.jpg\n",
      "Star Rating: Three\n",
      "\n",
      "\n",
      "Title: The Coming Woman: A Novel Based on the Life of the Infamous Feminist, Victoria Woodhull\n",
      "Price: £17.93\n",
      "Book URL: https://books.toscrape.comthe-coming-woman-a-novel-based-on-the-life-of-the-infamous-feminist-victoria-woodhull_993/index.html\n",
      "Availability: In stock\n",
      "Image URL: https://books.toscrape.com../media/cache/3d/54/3d54940e57e662c4dd1f3ff00c78cc64.jpg\n",
      "Star Rating: Three\n",
      "\n",
      "\n",
      "Title: Our Band Could Be Your Life: Scenes from the American Indie Underground, 1981-1991\n",
      "Price: £57.25\n",
      "Book URL: https://books.toscrape.comour-band-could-be-your-life-scenes-from-the-american-indie-underground-1981-1991_985/index.html\n",
      "Availability: In stock\n",
      "Image URL: https://books.toscrape.com../media/cache/54/60/54607fe8945897cdcced0044103b10b6.jpg\n",
      "Star Rating: Three\n",
      "\n",
      "\n",
      "Title: Foolproof Preserving: A Guide to Small Batch Jams, Jellies, Pickles, Condiments, and More: A Foolproof Guide to Making Small Batch Jams, Jellies, Pickles, Condiments, and More\n",
      "Price: £30.52\n",
      "Book URL: https://books.toscrape.comfoolproof-preserving-a-guide-to-small-batch-jams-jellies-pickles-condiments-and-more-a-foolproof-guide-to-making-small-batch-jams-jellies-pickles-condiments-and-more_978/index.html\n",
      "Availability: In stock\n",
      "Image URL: https://books.toscrape.com../media/cache/9f/59/9f59f01fa916a7bb8f0b28a4012179a4.jpg\n",
      "Star Rating: Three\n",
      "\n",
      "\n",
      "Title: Birdsong: A Story in Pictures\n",
      "Price: £54.64\n",
      "Book URL: https://books.toscrape.combirdsong-a-story-in-pictures_975/index.html\n",
      "Availability: In stock\n",
      "Image URL: https://books.toscrape.com../media/cache/af/6e/af6e796160fe63e0cf19d44395c7ddf2.jpg\n",
      "Star Rating: Three\n",
      "\n",
      "\n",
      "Title: America's Cradle of Quarterbacks: Western Pennsylvania's Football Factory from Johnny Unitas to Joe Montana\n",
      "Price: £22.50\n",
      "Book URL: https://books.toscrape.comamericas-cradle-of-quarterbacks-western-pennsylvanias-football-factory-from-johnny-unitas-to-joe-montana_974/index.html\n",
      "Availability: In stock\n",
      "Image URL: https://books.toscrape.com../media/cache/ef/0b/ef0bed08de4e083dba5e20fdb98d9c36.jpg\n",
      "Star Rating: Three\n",
      "\n",
      "\n",
      "Title: Aladdin and His Wonderful Lamp\n",
      "Price: £53.13\n",
      "Book URL: https://books.toscrape.comaladdin-and-his-wonderful-lamp_973/index.html\n",
      "Availability: In stock\n",
      "Image URL: https://books.toscrape.com../media/cache/d6/da/d6da0371958068bbaf39ea9c174275cd.jpg\n",
      "Star Rating: Three\n",
      "\n",
      "\n",
      "Title: The Five Love Languages: How to Express Heartfelt Commitment to Your Mate\n",
      "Price: £31.05\n",
      "Book URL: https://books.toscrape.comthe-five-love-languages-how-to-express-heartfelt-commitment-to-your-mate_969/index.html\n",
      "Availability: In stock\n",
      "Image URL: https://books.toscrape.com../media/cache/38/c5/38c56fba316c07305643a8065269594e.jpg\n",
      "Star Rating: Three\n",
      "\n",
      "\n",
      "Title: Penny Maybe\n",
      "Price: £33.29\n",
      "Book URL: https://books.toscrape.compenny-maybe_965/index.html\n",
      "Availability: In stock\n",
      "Image URL: https://books.toscrape.com../media/cache/12/53/1253c21c5ef3c6d075c5fa3f5fecee6a.jpg\n",
      "Star Rating: Three\n",
      "\n",
      "\n"
     ]
    }
   ],
   "source": [
    "import requests\n",
    "from bs4 import BeautifulSoup\n",
    "\n",
    "base_url = \"https://books.toscrape.com\"\n",
    "response = requests.get(base_url)\n",
    "\n",
    "soup = BeautifulSoup(response.text, \"html.parser\")\n",
    "page_num = \"\"\n",
    "num = \"\"\n",
    "#Get user input\n",
    "page_num = int(input(\"Please enter the page number upto which you want books listed: \"))\n",
    "num = input(\"Please enter the star rating - One, Two, Three, Four or Five or 0 to break:\")\n",
    "\n",
    "#Retrieve books from all the 50 pages on the site\n",
    "for i in range(1, page_num):\n",
    "    url = f\"{base_url}/catalogue/page-{i}.html\"\n",
    "    response = requests.get(url)\n",
    "    soup = BeautifulSoup(response.text, \"html.parser\")\n",
    "\n",
    "    for book in soup.find_all(\"article\", {\"class\": \"product_pod\"}):\n",
    "        if book.find(\"p\", {\"class\": \"star-rating \" + num}):\n",
    "            try:\n",
    "                title = book.find(\"h3\").find(\"a\")[\"title\"]\n",
    "                price = book.find(\"p\", {\"class\": \"price_color\"}).text[1:]\n",
    "                book_url = base_url + book.find(\"h3\").find(\"a\")[\"href\"]\n",
    "                availability = book.find(\"p\", {\"class\": \"instock availability\"}).get_text(strip=True)\n",
    "                image_url = base_url + book.find(\"img\")[\"src\"]\n",
    "                rating = book.find(\"p\", {\"class\": \"star-rating\"})[\"class\"][1]\n",
    "                \n",
    "                print(\"Title: \" + title)\n",
    "                print(\"Price: \" + price)\n",
    "                print(\"Book URL: \" + book_url)\n",
    "                print(\"Availability: \" + availability)\n",
    "                print(\"Image URL: \" + image_url)\n",
    "                print(\"Star Rating: \" + rating)\n",
    "                print(\"\\n\")\n",
    "                \n",
    "            except Exception as e:\n",
    "                print(f\"Error processing data for {title}: {e}\")\n",
    "        "
   ]
  },
  {
   "cell_type": "code",
   "execution_count": null,
   "id": "ceab64f3-e0d5-474b-8736-f6b9563e027d",
   "metadata": {},
   "outputs": [],
   "source": []
  },
  {
   "cell_type": "code",
   "execution_count": null,
   "id": "6b295de7-555a-4e70-a368-584ae447dc82",
   "metadata": {},
   "outputs": [],
   "source": []
  },
  {
   "cell_type": "markdown",
   "id": "80665e3c-ac72-4369-b53d-381a786d64e7",
   "metadata": {},
   "source": [
    "---"
   ]
  },
  {
   "cell_type": "markdown",
   "id": "f4e31008-1d65-41ed-98d4-1c8b6b2f8b65",
   "metadata": {},
   "source": [
    "WEB SCRAPER"
   ]
  },
  {
   "cell_type": "code",
   "execution_count": 47,
   "id": "4e7f6909-4eca-47d9-91f5-f09644f7c68d",
   "metadata": {},
   "outputs": [],
   "source": [
    "import requests\n",
    "from bs4 import BeautifulSoup"
   ]
  },
  {
   "cell_type": "code",
   "execution_count": 48,
   "id": "3dacc0e2-e223-4f61-8202-88df40c102ba",
   "metadata": {},
   "outputs": [],
   "source": [
    "url = \"https://www.netsetsoftware.com/services.php\""
   ]
  },
  {
   "cell_type": "code",
   "execution_count": 50,
   "id": "60e618a1-4a12-481b-bda8-60fd961c6718",
   "metadata": {
    "scrolled": true
   },
   "outputs": [
    {
     "data": {
      "text/plain": [
       "\"Company\\nCompany\\nOurStory\\nCareer\\nProcess\\nEngagementModel\\nResouces\\nBecomeaPartner\\nFEATUREDCASESTUDY\\nHowCanada’sTopInsuranceBrokerageTransformedTheirOfferingswithAI-DrivenAutomation\\nReadMore\\nExpertise\\nExpertise\\nBlockchain\\nDevelopmentServices\\nDigitalAssetTokenization\\nNFTMarketDevelopment\\nSmartContract\\nDevelopment\\nWeb3.0Development\\nBlockchainPoweredWorld\\nBinanceSmartChain\\nDevelopmentServices\\nCryptoExchange\\nDevelopment\\nNFTMarketplace\\nSimilar\\nto\\nRarible\\nDecentralized\\nFinance\\nDevelopment\\nDeFiLottery\\nPlatform\\nDevelopment\\nBespoke\\nWeb\\n&\\nMobile\\nApps\\nMobileAppDevelopment\\nWebDevelopmentServices\\nLegacySoftware\\nModernization\\nUI/UX\\nCustomERPSystem\\nCustomeCommerce\\nSoftware\\nArtificial\\nIntelligent\\nDevelopmentSolutions\\nWhiteLabelConversationalAI\\nServices\\nChatGPTDevelopmentSolutions\\nAIChatBotDevelopment\\nSolution\\nGenerativeAIDevelopmentCompany\\nGenerativeAIIntegration\\nServices\\nGenerativeAIConsulting\\nCompany\\nStableDiffusionDevelopment\\nAdaptiveAIDevelopmentCompany\\nMidjourneyApplicationDevelopment\\nHirePromptEngineers\\nTransformerModel\\nDevelopment\\nChatGPTIntegrationService\\nHire\\nDedicated\\nDevelopers\\nHireiOSDeveloper\\nHireMeanStackDevelopers\\nHireReactNative\\nDevelopers\\nHireFlutterDevelopers\\nHirePHPDevelopers\\nHireEthereumDevelopers\\nHireSolanaDevelopers\\nHireCardanoDevelopers\\nCustom\\nSoftware\\nDevelopment\\nMinimumViableProduct(POC)\\nDevelopment\\nCustomSoftwareProduct\\nDevelopment\\nCustomWebAppDevelopment\\nChatbotProductDevelopment\\nBlockchainProduct\\nDevelopment\\nDigital\\nMarketingServices\\nFEATUREDCASESTUDY\\nHowCanada’sTopInsuranceBrokerageTransformedTheirOfferingswithAI-DrivenAutomation\\nReadMore\\nHireDevelopers\\nHireDevelopers\\nMobile\\nAndroid\\niOS\\nReact\\nNative\\nFlutter\\nIonic\\nXamarin\\nAR\\nKotlin\\nSwift\\nBackend(BAAS)\\nThird-PartyAPIIntegration\\nJS&Frontend\\nFull\\nStack\\nAngular\\nVueJS\\nReactJS\\nMEAN\\nMERN\\nTailwindCSS\\nBackend\\nPHP\\nLaravel\\nJava\\nPython\\nNode.Js\\nGolang\\nRubyonrails\\nSpringBoot\\n.Netcore\\nNestJS\\nPostgresql\\nMySQL\\nMongoDB\\nRedis\\nHeadlessCMS\\nBlockChain\\nEthereum\\nSolana\\nCardano\\nBinance\\nHyperledger\\nRust\\nSolidity\\nUniswap\\ne-commerce&CMS\\nMagento\\nWordpress\\nDrupal\\nSitecore\\nSitefinity\\nUmbraco\\nSharePoint\\nML&AI\\nTensorflow\\nMachine\\nLearning\\nOpenAI\\nLangchain\\nDialogflow\\nGoogleAI(VertexAI)\\nFEATUREDCASESTUDY\\nHowCanada’sTopInsuranceBrokerageTransformedTheirOfferingswithAI-DrivenAutomation\\nReadMore\\nSolutions\\nSolutions\\nHealthcare\\nWellnessApp\\nDevelopment\\nCompany\\nMentalHealth\\nApp\\nDevelopmentCompany\\nCryptoWallet\\nDevelopment\\nCompany\\nMLMSoftware\\nDevelopment\\nCompany\\nFEATUREDCASESTUDY\\nHowCanada’sTopInsuranceBrokerageTransformedTheirOfferingswithAI-DrivenAutomation\\nReadMore\\nResources\\nResources\\nPortfolio\\nInsights\\nSuccessStudies\\nFEATUREDCASESTUDY\\nHowCanada’sTopInsuranceBrokerageTransformedTheirOfferingswithAI-DrivenAutomation\\nReadMore\\nContactUs\\nScheduleaCall\\n×\\nCompany\\nOurStory\\nCareer\\nProcess\\nEngagementmodel\\nResources\\nBecomeapartner\\nHireDevelopers\\nMobile\\nAndroid\\niOS\\nReact\\nNative\\nFlutter\\nIonic\\nXamarin\\nAR\\nKotlin\\nSwift\\nBackend(BAAS)\\nThird-PartyAPIIntegration\\nJS&Frontend\\nFullStack\\nAngular\\nVueJS\\nReactJS\\nMEAN\\nMERN\\nTailwindCSS\\nBackend\\nPHP\\nLaravel\\n.Net\\nJava\\nPython\\nFlask\\nNode.Js\\nRuby\\nGolang\\nGraphQL\\nRubyonrails\\nSpringBoot\\n.Netcore\\nNestJS\\nPostgresql\\nMySQL\\nMongoDB\\nRedis\\nHeadlessCMS\\nBlockChain\\nEthereum\\nSolana\\nCardano\\nBinance\\nHyperledger\\nRust\\nSolidity\\nUniswap\\nML&AI\\nTensorflow\\nMachine\\nLearning\\nOpenAI\\nLangchain\\nDialogflow\\nGoogleAI(VertexAI)\\nBigData&DataAnalytics\\nHadoop\\nPowerBI\\ne-commerce&CMS\\nMagento\\nWordpress\\nDrupal\\nSitecore\\nSitefinity\\nUmbraco\\nSharePoint\\nSoutions\\nHealthcare\\nWellnessAppDevelopmentCompany\\nMentalHealthAppDevelopmentCompany\\nCryptoWalletDevelopmentCompany\\nMLMSoftwareDevelopmentCompany\\nExpertise\\nBlockchainDevelopmentService\\nDigitalAssetTokenization\\nNFTMarketDevelopment\\nSmartContractDevelopment\\nWeb3.0Development\\nBlockchainPoweredWorld\\nBinanceSmartChain\\nDevelopmentServices\\nCryptoExchangeDevelopment\\nNFTMarketplaceSimilarto\\nRarible\\nDecentralizedFinanceDevelopment\\nDeFiLotteryPlatformDevelopment\\nBespokeWeb&MobileApps\\nMobileAppDevelopment\\nWebDevelopmentServices\\nLegacySoftwareModernization\\nUI/UX\\nCustomERPSystem\\nCustomeCommerceSoftware\\nArtificialIntelligentDevelopmentSolutions\\nWhiteLabelConversationalAIServices\\nChatGPTDevelopmentSolutions\\nAIChatBotDevelopmentSolution\\nGenerativeAIDevelopmentCompany\\nGenerativeAIIntegration\\nServices\\nGenerativeAIConsultingCompany\\nStableDiffusionDevelopment\\nAdaptiveAIDevelopmentCompany\\nMidjourneyApplicationDevelopment\\nHirePromptEngineers\\nTransformerModel\\nDevelopment\\nChatGPTIntegrationService\\nHireDedicatedDevelopers\\nHireiOSDeveloper\\nHireMeanStackDevelopers\\nHireReactNativeDevelopers\\nHireFlutterDevelopers\\nHirePHPDevelopers\\nHireEthereumDevelopers\\nHireSolanaDevelopers\\nHireCardanoDevelopers\\nCustomSoftwareDevelopment\\nMinimumViableProduct(POC)Development\\nCustomSoftwareProductDevelopment\\nCustomMobileAppDevelopment\\nCustomWebAppDevelopment\\nChatbotProductDevelopment\\nBlockchainProduct\\nDevelopment\\nDigitalMarketing\\nServices\\nResources\\nResources\\nPortfolio\\nInsights\\nCaseStudies\\nContactUs\\nForSalesInquiry\\n+1951-842-5521\\n+91-95922-11463\\n(Ifwedon'tpickup,dropinquiry.)\\nForHRInquiry\\n+91-98884-88866\\nYourTrustedInnovationPartnerforSoftwareSolutionsDevelopment&ConsultingServices.\\nOurlargeandgrowinginternationalteamofcreativedesigners,projectmanagers,softwaredevelopers&solutionarchitectsarehighlypassionateanddesignatedtoworkmeticulouslywiththeiruniqueapproachesandabilitiestowardssupporting,buildingandhenceforthflourishingyourprojects\\nCONTACTUS\\nOurServiceOfferings\\nDigitalproduct\\ndevelopment\\nCustomsoftwareproductsforbusinessopsorscalableapplicationsforweb&mobile,webuildthemwithquality,exceedingyourexpectations.\\nBespokeWeb\\n&MobileApps\\nUnleashthepoweroftechnologywithrobustWeb&MobileAppDevelopmentservices.Ourmissionistoempoweryouwithethical,cost-effective&high-qualityservices.\\nProfessional\\nServices\\nAugmentyourin-housedevelopmentteamwithourexpertsasperyourskillrequirement.Ourpromiseisthatyoupossessfullcontroloftheresource,withnorepents.\\nBlockchainDevelopmentServices\\nBuildsecure,transparent,andtamper-proofapplicationswithourblockchaindevelopmentexpertise.Wehelpyouleveragedistributedledgertechnologytorevolutionizeyourindustry.Fromcreatingcustomblockchainsandsmartcontractstointegratingwithexistingecosystems,we'llguideyoueverystepoftheway.\\nArtificialIntelligent\\r\\nDevelopmentSolutions\\nHarnessthepowerofartificialintelligencetotransformyouroperations.WeofferafullspectrumofAIdevelopmentservices,includingmachinelearning,naturallanguageprocessing,andcomputervision.OurteamwillworkcloselywithyoutounderstandyouruniqueneedsanddevelopcustomAIsolutionsthatdriveefficiency,unlocknewinsights,anddeliveracompetitiveedge.\\nCustomSoftware\\r\\nDevelopment\\nDon'tsettleforoff-the-shelfsoftware.Wespecializeinbuildingcustomapplicationsthatperfectlymatchyourspecificrequirements.Ourexperienceddeveloperswillworkwithyouthroughouttheentiredevelopmentprocess,frominitialconcepttodeploymentandongoingmaintenance.Wecanhandleanythingfromwebandmobileapplicationstoenterprise-gradesoftwaresolutions.\\n1.DigitalProductDevelopment\\nCustomMobileAppDevelopment\\nMobileAppDevelopmentexperiencetakenbeyondtheexpectationbyservingallbig&smallenterpriseswithtransformeddigitalproducts.\\nCustomWebAppDevelopment\\nWebAppDevelopmentisupgradedtothenextlevelwiththepowerofcutting-edgetechnologies,innovatingproductsondigitalgrounds.\\nMVPDevelopment\\nGetyourprojectessentialsdevelopedintheformofaresponsiveprototype,providingvaluableinsightswithminimumchancesofrisks.\\nChatbotProductDevelopment\\nAChatbotsimplifiesallyourcomplexitiesandprovidesinteractiveusercommunicationwithstreamlinedconversions.\\nCustomProductDevelopment\\nOurconsultantsanddevelopersarespecializedinimplementingITsolutionsinthenecessaryenvironmentstailoredtoindustry-specificneeds.\\nBlockchainProductDevelopment\\nExploreBlockchainoutsidetherealmoffinancetoseeitsbroaderimplicationsinotherindustryverticalstoo.\\n2.BespokeMobile&WebDevelopment\\nMobileAppDevelopment\\nWehelpyoudevelopintangibleapplicationsthatexistindigitalformsthatarecreditedasyourbusinessdifferentials.\\nWebAppDevelopment\\nGenuinedigitalwebapplicationsrenderedasperyourbusinessintentswithanaimtoprocurevaluepropositionanddigitalinteractions.\\nUI/UX\\nEnrichedandintuitiveUI&UXdesignsarecraftedwithdelineatecareandpreciseplanningtodeliverthoughtfulenduser-experience.\\nLegacySoftwareModernization\\nTransformyourlegacysystemstobereadyforthedigitalfuturebeingcompatiblewithlatestsoftwaredesignsandplatformsofanothermakeortype.\\nCustomERPSystem\\nBespokeERPsolutionstailoredtoindustry-specificneeds,transformingthegeneralwaysofproductimprovementsanddevelopments.\\nCustomCRMSystem\\nCustomerRelationshipManagementsystemsaidyoutoaccomplishmajorandcrucialbusinesstasks,leveragingitsprocesses,strategiesandworkflows.\\nCustomeCommerceSoftware\\nPurchasershavegraspedInternetShopping.OurEcommercesoftwareenablesyoutoconductonlinebusinessviatheprocedureofcreating,showcasing,conveying,adjustingandpayingforitems/services.\\n3.ProfessionalSoftwareDevelopment\\nStaffAugmentation\\nUnderroofNetSet,thereexistsadroitteamplayersandartistswhoshowcasetheirpotentialwithaflair,provingtheirdexteritieseverypassingday.\\nDigitalMarketing\\nGetglobalbusinessoutreachofyourbrandandgainstrongonlinevisibilityviaplanned,structured,andstrategicdigitalmarketingapproaches.\\nSoftwareTesting\\nBerestassuredforbug-freecodesandflawlessendproducts.OurQA&testingexpertsproficientlydeliverresultsfreefromerrors,testingproductsateverysinglephase.\\nHireDedicatedProgrammers\\nOursharp-mindeddevelopersandprogrammersholdcomprehensiveexpertiseincoretechnologiesoftoday,engineeringoptimaltechnologysolutionsforeverybusinessneed.\\nITStrategy&Consulting\\nAllITbarriersandhurdlesareremovedandclearedwithsheertechnicalknow-howtohelpyouraiseyourbusinessproductivity,acquiringexponentialgains.\\nVirtualAdministrativeAssistant\\nAvirtualadminservesyoufull-timewithadministrativeaidandassistanceinmanagingclients,calls,contacts,billing,etc.,workingoffshore.\\n4.BlockchainDevelopmentServices\\nNFTMarketplaceDevelopment\\nWelcometoNetSetSoftwareYourUltimateTimeandMoneySavingSolution.Ourcutting-edgewhite-labelplatformismeticulouslycraftedwithstate-of-the-arttechnologiesandrigorouslyvettedbytopsecurityagencies.WithNetSet,youcaneffortlesslylaunchyourNFTmarketplaceinjustafewdays.\\nSmartContractsDevelopment\\nWeoffercost-effectivesolutionstostreamlineyourprocessesbycraftingcustomself-executingcontracts,eliminatingtheneedforintermediariesandextraexpenses.Ourspecializedsmartcontractservicesaredesignedtoefficientlymanagecryptocurrencytransactionswithprecision.\\nCryptoExchangeDevelopment\\nOurteamofblockchaindevelopersexcelsinprovidingasmoothandsecureuserexperienceforcryptocurrencyexchangeonautonomousplatforms.Ourtop-notchcryptoexchangedevelopmentservicesprioritizeprivacypromotion.\\nPrivateBlockchainDevelopment\\nOurskilledprogrammersarepoisedtoassistyouincraftingprivateblockchainapplications,ensuringoptimalperformance,minimalrisk,speed,andcost-effectiveness.\\nBlockchainConsulting\\nWe'reconsistentlyavailabletoshareourexpertiseinblockchaindevelopmentandaredelightedtoassistwithanybusinessinquiriesorchallengesyoumayhave.Ourcustomizedsolutionsaredesignedtoperfectlyalignwiththeuniqueneedsofeachbusiness.\\nBlockChainIoTAppDevelopment\\nWearecommittedtodeliveringflawlesssecuritysolutionsforadecentralizednetworkofIoTdevices.OurBlockchainIoTAppsolutionsguaranteeauthenticity,accountability,andimmunityfromallpotentialrisks.\\n5.ArtificialIntelligent\\r\\nDevelopmentSolutions\\nChatGPTDevelopmentServices\\nWespecializeininnovative,human-likeintelligentsolutions.OurteamofOpenAIdevelopersleveragescutting-edgetechnologieslikeGPT-4,GPT-3,Codex,andDALL-EtocraftcreativeGenerativeAIsolutions.Additionally,weofferexpertconsultingforintegratingthesetechnologiesintoyourprojects.\\nAIConsulting&Development\\nWespecializeinAIconsultinganddevelopmentservicesthatdrivecorporategrowth,seamlesslyintegrateAIintoexistingtechstacks,anddeliverinnovativesolutionstostreamlinebusinessoperations.\\nMachineLearningDevelopment\\nWespecializeinautomatingyourbusinessprocessesandimplementingcutting-edgedataanalysisthroughmachinelearningdevelopmentservices.Ourexpertiseliesindeployingmachinelearningmodelsandalgorithmscapableofhandlinglargedatasets,facilitatingswiftandintelligentdecision-making.\\nNaturalLanguageProcessing\\nLeverageNLPforcomprehensivedataanalysis.OurexpertiseliesindevelopingAI-drivensoftware,craftingacutting-edgedigitalassistantcapableofunderstandingvariousspeechpatterns,contextualintricacies,emotions,andlanguagestodelivertailoredcustomerservice.\\nDataSupportForAI/ML\\nOurcertifiedexperts,supportedbyAI&MLcentersofexcellence,offerpreciseandconfidentialdataannotationservicesencompassingtext,images,andvideos.CountonustotrainyourAI/MLmodelsforoptimizingbusinessoperationsefficiently,ensuringaccuracyandprecisioneverystepoftheway.\\nAISolutionSupport&Optimization\\nWeoffercontinuousoptimization,monitoring,andsupportforbothexistingandnewlydevelopedAIsystems,ensuringtheyoperateattheirbestaroundtheclock.OurservicesincludeintegratingnewdataresourcestoenhanceAIinsightsandaccuracy,aswellascreatingmachinelearningmodelstailoredtomeetevolvingbusinessneeds.\\n6.CustomSoftware\\r\\nDevelopment\\nConsultationandStrategyDevelopment\\nStartbydiscussingyourapproachtounderstandingclients'needs,goals,andtargetaudience.Highlightyourconsultationprocesswhereyougatherrequirements,analyzemarkettrends,anddevelopatailoredstrategyforeachproject.\\nUI/UXDesign\\nEmphasizetheimportanceofuserexperience(UX)anduserinterface(UI)designincreatingengagingandintuitivemobileapps.Discussyourteam'sexpertiseincreatingvisuallyappealingdesignsthatenhanceusabilityanddriveuserengagement.\\nMobileAppDevelopment\\nDetailyourmobileappdevelopmentprocess,includingprogramminglanguages,frameworks,andmethodologiesused.Highlightyourteam'sproficiencyindevelopingcustommobileappsforvariousplatforms,suchasiOS,Android,andcross-platformsolutions.\\nQualityAssuranceandTesting\\nShowcaseyourcommitmenttodeliveringhigh-qualitymobileappsbydiscussingyourrigoroustestingprocesses.Highlighthowyourteamconductsthoroughtestingacrossmultipledevices,platforms,andscenariostoensureoptimalperformance,security,andreliability.\\nDeploymentandSupport\\nDescribeyourdeploymentprocessandpost-launchsupportservices.Explainhowyouassistclientswithappdeploymenttoappstores,aswellasongoingmaintenance,updates,andtroubleshootingtoensuresmoothoperationandusersatisfaction.\\nInnovationandFuture-Proofing\\nHighlightyourfocusoninnovationandstayingaheadofindustrytrends.DiscusshowyourteamintegratesemergingtechnologiessuchasAI,AR/VR,IoT,andblockchainintomobileappstoprovidecutting-edgesolutionsandfuture-proofclients'investments.\\nGotaprojectinmind?Getitsestimation.\\nScheduleACall\\nPickaHiringModelofYourChoice\\nGetgoingwithaBusiness-FriendlyModelthatsuitsyouperfectly.\\nFixedPrice\\nTimeandMaterial\\nDedicatedTeam\\nFixedPrice\\nOurfixedpriceparadigmbestsuitscustomerswhowishtoaccomplishprojectswithlimitedscopeandscalabilitywithclear,predeterminedandconstantrequirements.\\nOnboardingofsmall-sizedprojectsisfirstinitiatedbyestimatingafeasibletimeandbudgettocreateanMVPwhichminimizesprojectrisksbeforedevelopmentstarts.Thismodelkeepsstablepricingadheringtothepredictivecalculationsofwork,time&money.\\nFixedTimePeriod\\nClear&SpecifiedRequirements\\nNegligibleMoneyRisk\\nNoPre/PostChanges\\nTimeandMaterial\\nTimeandMaterialmodelistailoredforcustomerscomingupwithlong-termandcomplexprojectswhichinvolveprojectexecutionsincludingdesigning,bugfixing,testing,finaldeployment&support/maintenance.\\nWhatsetsitapartfromthepreviousoneisthefreedomtoapplychangesandmodificationsmorefreelywithinadefinedtimeinterval.Workbeginsaftertakingunderstandingandcontroloverthevisionedscope,rathertheentireproject.\\nScalable&Flexible\\nLessClearrequirements\\nLessConsistentWorkflow\\nTransparency&Collaboration\\nDedicatedTeam\\nDedicatedTeammodelisidealforcustomerslookingforaprolongedbusinessassociationforexecutinghigh-endandcomplexprojectsfromstarttofinish.Say,projectsintendingtouseBlockchaintechnologymayfallunderthiscategory.\\nIt’sthemostflexibleandadaptableamongthelistofthreeasitofferstomakeunfixedbusinesschanges,inreal-time,aspertheever-increasingmarketdemands.Wedeployyouwithfullrightstochooseexpertsasemployeestohandleyourentireprojectthatisworkedandsupportedremotely.\\nEnhancedFlexibility\\nAccountabilityandTransparency\\nHighMoneyInvestment\\nWide&DeepInvolvement\\nWhichHiringModelBestSuitsYourNeeds?\\nLet'sScheduleACall>>\\nCANADA\\nNetSetSoftwareSolutionsInc.\\n7895TranmereDr\\nUnit#16,Suite-3,Mississauga,\\nONL5S1V9\\n+1951-842-5521\\nUSA\\n2055LimestoneRDSTE200CWilmingtonDE19808\\nIndia\\nE281Phase,8A,IndustrialArea,Sector75,\\nSahibzadaAjitSinghNagar,Punjab160055\\n+91\\n9592211463\\nAboutus\\nServices\\nHire\\nDevelopers\\nStartups\\nCaseStudies\\nInsights\\nCareers\\nOurTeam\\nContactUs\\nPrivacyPolicy\\nsales@netsetsoftware.co\\n©\\n2025\\nNetsetsoftwareSolutionsInc\\n,AllRightsReserved.\""
      ]
     },
     "execution_count": 50,
     "metadata": {},
     "output_type": "execute_result"
    }
   ],
   "source": [
    "class Webscraper:\n",
    "    def __init__(self, url):\n",
    "        self.url = url\n",
    "        response = requests.get(self.url)\n",
    "    \n",
    "        if response.status_code == 200:\n",
    "            self.body = response.content\n",
    "            soup = BeautifulSoup(response.content, \"html.parser\")\n",
    "            self.title = [soup.title.string if soup.title else \"No title\"]\n",
    "        else:\n",
    "            raise Exception(f\"Unable to fetch the page: {response.status_code}\")\n",
    "\n",
    "        if (soup.body):\n",
    "            for extras in soup.body([\"script\", \"img\", \"style\"]):\n",
    "                extras.decompose()\n",
    "                self.text = soup.body.get_text(separator=\"\\n\", strip=True).replace(\" \", \"\")\n",
    "        else:\n",
    "            self.text = \"\"\n",
    "        \n",
    "        a = soup.find_all('a')\n",
    "        links = [link.get(\"href\") for link in a]\n",
    "        self.links = [link for link in links if link]\n",
    "        \n",
    "        \n",
    "    def get_info(self):\n",
    "        return f\"Page Title:\\n{self.title} \\nPage Content:\\n{self.text}\\n\"\n",
    "        \n",
    "url = \"https://www.netsetsoftware.com/services.php\"\n",
    "scraper = Webscraper(url)\n",
    "scraper.text"
   ]
  },
  {
   "cell_type": "markdown",
   "id": "c5f8db3d-3ad8-464f-a0b7-3c37c7074879",
   "metadata": {},
   "source": [
    "---"
   ]
  },
  {
   "cell_type": "markdown",
   "id": "c542d814-30a6-471d-9751-5dd1765cb7fd",
   "metadata": {},
   "source": [
    "Connect to Ollama to create a brochure"
   ]
  },
  {
   "cell_type": "code",
   "execution_count": 51,
   "id": "141d18a3-1a62-4fbb-9c68-79a2e014dbeb",
   "metadata": {},
   "outputs": [],
   "source": [
    "!pip -q install ollama"
   ]
  },
  {
   "cell_type": "code",
   "execution_count": 52,
   "id": "4dfcb971-f386-4f20-abf3-4907ff17b07a",
   "metadata": {},
   "outputs": [
    {
     "data": {
      "text/plain": [
       "ProgressResponse(status='success', completed=None, total=None, digest=None)"
      ]
     },
     "execution_count": 52,
     "metadata": {},
     "output_type": "execute_result"
    }
   ],
   "source": [
    "import ollama\n",
    "ollama.pull(\"llama2\")"
   ]
  },
  {
   "cell_type": "markdown",
   "id": "2723b93e-09f3-4995-abff-db0763dc5d58",
   "metadata": {},
   "source": [
    "Brochure Generator"
   ]
  },
  {
   "cell_type": "code",
   "execution_count": 53,
   "id": "dadd610f-42a9-425d-aeb9-f5f4041a2828",
   "metadata": {},
   "outputs": [],
   "source": [
    "import re\n",
    "\n",
    "def find_url_in_prompt(prompt):\n",
    "    urls = re.findall(r'(https?://[^\\s]+)', prompt)\n",
    "    print(urls)\n",
    "    return urls"
   ]
  },
  {
   "cell_type": "code",
   "execution_count": 54,
   "id": "284b4753-031e-4413-81ef-fb0906d01da2",
   "metadata": {},
   "outputs": [],
   "source": [
    "def brochure_generator(prompt):\n",
    "    \n",
    "    system_prompt = \"\"\"\n",
    "        You are an experienced brochure creator abreast with the latest advances in Crypto, Blockchain and IT\n",
    "        You are targeting an audience that is tech savvy with knowledge of custom software development and blockchain technology.\n",
    "        The language used is business like and formal\n",
    "        The brochure should generate interest in the form of phone calls and emails asking about their services\n",
    "        Emphasize the unique selling proposition of this company\n",
    "        Be direct and to the point without being verbose\n",
    "        Avoid copyright infringement of any kind\n",
    "    \"\"\" \n",
    "\n",
    "    url = find_url_in_prompt(\"https://www.netsetsoftware.com/services.php\")\n",
    "    \n",
    "    try:\n",
    "        if url:\n",
    "            web_content = Webscraper(url).text\n",
    "            print(web_content)\n",
    "            prompt += web_content\n",
    "        else:\n",
    "            prompt += \"No URL provided\"\n",
    "    except Exception as e:\n",
    "        print(f\"Error: {e}\")\n",
    "        \n",
    "    messages = [\n",
    "        {\"role\": \"assistant\", \"content\": system_prompt},\n",
    "        {\"role\": \"user\", \"content\": prompt}\n",
    "    ]\n",
    "\n",
    "    \n",
    "    from ollama import Client\n",
    "    client = Client(host=\"http://localhost:11434\")\n",
    "    \n",
    "    output = client.chat(model = \"llama2\", messages = messages, stream = True)\n",
    "\n",
    "    print(\"Raw output from Llama2: \", output)\n",
    "\n",
    "    \n",
    "    response = \"\"\n",
    "    for chunk in output:\n",
    "        try:\n",
    "            if \"message\" in chunk and \"content\" in chunk[\"message\"]:\n",
    "                chunk_text = chunk[\"message\"][\"content\"]\n",
    "                response += chunk_text or \"\"\n",
    "                yield response\n",
    "\n",
    "            else:\n",
    "                prompt += \"A problem occurred\"\n",
    "\n",
    "        except Exception as e:\n",
    "            print(f\"Error: {e}\")\n",
    "\n",
    "    \n",
    "    # if response:\n",
    "    #     print(response)\n",
    "    # else:\n",
    "    #     print(\"No response from llama2\")"
   ]
  },
  {
   "cell_type": "code",
   "execution_count": 55,
   "id": "7d3a9c9c-1613-40d7-9a4c-82c561681314",
   "metadata": {},
   "outputs": [],
   "source": [
    "response = brochure_generator(\"https://www.netsetsoftware.com/services.php\")"
   ]
  },
  {
   "cell_type": "code",
   "execution_count": 56,
   "id": "0ec34a34-5f7c-4708-9221-cce891fe0246",
   "metadata": {},
   "outputs": [],
   "source": [
    "!pip -q install gradio"
   ]
  },
  {
   "cell_type": "code",
   "execution_count": 38,
   "id": "8f80c48d-a4ca-4177-8fd3-2e91fac9b545",
   "metadata": {},
   "outputs": [
    {
     "name": "stdout",
     "output_type": "stream",
     "text": [
      "* Running on local URL:  http://127.0.0.1:7863\n",
      "\n",
      "To create a public link, set `share=True` in `launch()`.\n"
     ]
    },
    {
     "data": {
      "text/html": [
       "<div><iframe src=\"http://127.0.0.1:7863/\" width=\"100%\" height=\"500\" allow=\"autoplay; camera; microphone; clipboard-read; clipboard-write;\" frameborder=\"0\" allowfullscreen></iframe></div>"
      ],
      "text/plain": [
       "<IPython.core.display.HTML object>"
      ]
     },
     "metadata": {},
     "output_type": "display_data"
    },
    {
     "data": {
      "text/plain": []
     },
     "execution_count": 38,
     "metadata": {},
     "output_type": "execute_result"
    },
    {
     "name": "stdout",
     "output_type": "stream",
     "text": [
      "['https://www.netsetsoftware.com/services.php']\n",
      "Error: No connection adapters were found for \"['https://www.netsetsoftware.com/services.php']\"\n",
      "Raw output from Llama2:  <generator object Client._request.<locals>.inner at 0x000001B5BE4D85E0>\n"
     ]
    }
   ],
   "source": [
    "with gr.Blocks() as demo:\n",
    "    gr.Markdown(\n",
    "        \"\"\"\n",
    "        # Welcome to the AI Brochure Creator\n",
    "        This app will use the URL link to a website of your choice and create a commercial brochure for the company.\n",
    "        In the below box, enter the URL of the website you wish to create a brochure for.\n",
    "        \n",
    "        \"\"\"\n",
    "    )\n",
    "    url = gr.Textbox(label=\"Website URL\")\n",
    "    output = gr.Textbox(label=\"Output\")\n",
    "    submit = gr.Button(\"Submit\")\n",
    "    submit.click(fn=brochure_generator, inputs=url, outputs=output)\n",
    "\n",
    "demo.launch()"
   ]
  },
  {
   "cell_type": "code",
   "execution_count": null,
   "id": "8348aafc-b743-459d-ac35-4b64decac40b",
   "metadata": {},
   "outputs": [],
   "source": []
  },
  {
   "cell_type": "code",
   "execution_count": null,
   "id": "518567ad-e716-4ebc-ad70-dff2ea16d357",
   "metadata": {},
   "outputs": [],
   "source": []
  },
  {
   "cell_type": "code",
   "execution_count": null,
   "id": "db397a3e-5c91-4d6c-a1bf-07d65700417a",
   "metadata": {},
   "outputs": [],
   "source": []
  },
  {
   "cell_type": "code",
   "execution_count": null,
   "id": "6e8f32f6-e024-45f7-9310-b24270515882",
   "metadata": {},
   "outputs": [],
   "source": []
  },
  {
   "cell_type": "code",
   "execution_count": null,
   "id": "67ee548a-cf7e-45d2-ac17-1af0470fc01d",
   "metadata": {},
   "outputs": [],
   "source": []
  },
  {
   "cell_type": "code",
   "execution_count": null,
   "id": "c6df9965-8c14-4362-b61c-0f41b13841bb",
   "metadata": {},
   "outputs": [],
   "source": []
  },
  {
   "cell_type": "code",
   "execution_count": null,
   "id": "480a0997-5bd1-4970-9dc1-7f1bd92c5248",
   "metadata": {},
   "outputs": [],
   "source": []
  },
  {
   "cell_type": "code",
   "execution_count": null,
   "id": "35d33c4e-c4f9-4ea3-b445-c40320b5bc22",
   "metadata": {},
   "outputs": [],
   "source": []
  },
  {
   "cell_type": "code",
   "execution_count": null,
   "id": "945379ff-30fb-4b63-8cf4-d4ed36e90405",
   "metadata": {},
   "outputs": [],
   "source": []
  },
  {
   "cell_type": "code",
   "execution_count": null,
   "id": "f634d9ae-5bb6-4651-9e6c-7aae4e787438",
   "metadata": {},
   "outputs": [],
   "source": []
  },
  {
   "cell_type": "code",
   "execution_count": null,
   "id": "6b9c4806-8c5d-48f4-bf7d-cf9d3a2ccf04",
   "metadata": {},
   "outputs": [],
   "source": []
  },
  {
   "cell_type": "code",
   "execution_count": null,
   "id": "bb0a1424-86bd-49a0-acc6-391dafe3f5e2",
   "metadata": {},
   "outputs": [],
   "source": []
  }
 ],
 "metadata": {
  "kernelspec": {
   "display_name": "Python 3 (ipykernel)",
   "language": "python",
   "name": "python3"
  },
  "language_info": {
   "codemirror_mode": {
    "name": "ipython",
    "version": 3
   },
   "file_extension": ".py",
   "mimetype": "text/x-python",
   "name": "python",
   "nbconvert_exporter": "python",
   "pygments_lexer": "ipython3",
   "version": "3.12.3"
  }
 },
 "nbformat": 4,
 "nbformat_minor": 5
}
