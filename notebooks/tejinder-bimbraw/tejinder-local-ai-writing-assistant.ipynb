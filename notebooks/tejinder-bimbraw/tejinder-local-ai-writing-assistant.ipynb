{
 "cells": [
  {
   "cell_type": "code",
   "execution_count": 1,
   "metadata": {},
   "outputs": [
    {
     "name": "stderr",
     "output_type": "stream",
     "text": [
      "/home/shaheer/Documents/community-projects/ongoing/SDS-CP019-local-ai-writing-assistant/.venv/lib/python3.12/site-packages/tqdm/auto.py:21: TqdmWarning: IProgress not found. Please update jupyter and ipywidgets. See https://ipywidgets.readthedocs.io/en/stable/user_install.html\n",
      "  from .autonotebook import tqdm as notebook_tqdm\n"
     ]
    }
   ],
   "source": [
    "import ollama\n",
    "import gradio as gr\n",
    "\n",
    "MODEL=\"llama2\""
   ]
  },
  {
   "cell_type": "code",
   "execution_count": 2,
   "metadata": {},
   "outputs": [],
   "source": [
    "messages = [\n",
    "    {\"role\":\"assistant\",\"content\":\"You are an unhelpful assistant and will respond to user queries with sarcasm\"},\n",
    "    {\"role\":\"user\",\"content\":\"What is the capital of france\"}\n",
    "]"
   ]
  },
  {
   "cell_type": "code",
   "execution_count": 3,
   "metadata": {},
   "outputs": [],
   "source": [
    "response = ollama.chat(model=MODEL, messages=messages)"
   ]
  },
  {
   "cell_type": "code",
   "execution_count": null,
   "metadata": {},
   "outputs": [],
   "source": [
    "print(response['message']['content'])"
   ]
  },
  {
   "cell_type": "markdown",
   "metadata": {},
   "source": [
    "## Building a chatbot"
   ]
  },
  {
   "cell_type": "code",
   "execution_count": null,
   "metadata": {},
   "outputs": [],
   "source": [
    "# Simple chat code logic\n",
    "\n",
    "def simple_chat():\n",
    "\n",
    "    system_message = \"You are an unhelpful assistant and will respond to user queries with sarcasm\"\n",
    "    print(\"Hello. I am your personal unhelpful assistant. How can I help you today?\")\n",
    "    \n",
    "    user_input = input(\"You: \")\n",
    "\n",
    "    while user_input != '/bye':\n",
    "        messages.append({\"role\":\"user\",\"content\":user_input})\n",
    "        resp = ollama.chat(model=MODEL, messages=messages)\n",
    "        messages.append({\"role\":\"assistant\",\"content\":resp['message']['content']})\n",
    "        print(resp['message']['content'])\n",
    "        user_input = input(\"You: \")\n",
    "\n",
    "    return print(\"You have exited the chat!\")\n"
   ]
  },
  {
   "cell_type": "code",
   "execution_count": 2,
   "metadata": {},
   "outputs": [],
   "source": [
    "# Chat function for Gradio\n",
    "\n",
    "def chat_llama2(prompt, history):\n",
    "    system_message = \"You are an unhelpful assistant and will respond to user queries with sarcasm\"\n",
    "    \n",
    "    messages = [\n",
    "        {\"role\":\"assistant\",\"content\":system_message},\n",
    "        {\"role\":\"user\",\"content\":prompt}\n",
    "    ]\n",
    "\n",
    "    result = ollama.chat(\n",
    "        model=\"llama2\",\n",
    "        messages=messages,\n",
    "        stream=True         # allows us to stream the resulting response instead of displaying the entire output at once\n",
    "        )\n",
    "    \n",
    "    # streaming the response from the model\n",
    "    # this prints out each output token form the model to have the resulting text displayed in real time\n",
    "    response = \"\"\n",
    "    for chunk in result:\n",
    "        if 'message' in chunk and 'content' in chunk['message']:\n",
    "            chunk_text = chunk['message']['content']\n",
    "            response += chunk_text or \"\"\n",
    "            yield response"
   ]
  },
  {
   "cell_type": "markdown",
   "metadata": {},
   "source": [
    "### Gradio UI with a high level wrapper (ChatInterface)"
   ]
  },
  {
   "cell_type": "code",
   "execution_count": 3,
   "metadata": {},
   "outputs": [
    {
     "name": "stderr",
     "output_type": "stream",
     "text": [
      "/home/shaheer/Documents/community-projects/ongoing/SDS-CP019-local-ai-writing-assistant/.venv/lib/python3.12/site-packages/gradio/components/chatbot.py:242: UserWarning: You have not specified a value for the `type` parameter. Defaulting to the 'tuples' format for chatbot messages, but this is deprecated and will be removed in a future version of Gradio. Please set type='messages' instead, which uses openai-style dictionaries with 'role' and 'content' keys.\n",
      "  warnings.warn(\n",
      "/home/shaheer/Documents/community-projects/ongoing/SDS-CP019-local-ai-writing-assistant/.venv/lib/python3.12/site-packages/gradio/chat_interface.py:222: UserWarning: The type of the gr.Chatbot does not match the type of the gr.ChatInterface.The type of the gr.ChatInterface, 'messages', will be used.\n",
      "  warnings.warn(\n"
     ]
    },
    {
     "name": "stdout",
     "output_type": "stream",
     "text": [
      "* Running on local URL:  http://127.0.0.1:7860\n",
      "\n",
      "To create a public link, set `share=True` in `launch()`.\n"
     ]
    },
    {
     "data": {
      "text/html": [
       "<div><iframe src=\"http://127.0.0.1:7860/\" width=\"100%\" height=\"500\" allow=\"autoplay; camera; microphone; clipboard-read; clipboard-write;\" frameborder=\"0\" allowfullscreen></iframe></div>"
      ],
      "text/plain": [
       "<IPython.core.display.HTML object>"
      ]
     },
     "metadata": {},
     "output_type": "display_data"
    },
    {
     "data": {
      "text/plain": []
     },
     "execution_count": 3,
     "metadata": {},
     "output_type": "execute_result"
    }
   ],
   "source": [
    "gr.ChatInterface(\n",
    "    fn=chat_llama2,\n",
    "    type=\"messages\",\n",
    "    chatbot=gr.Chatbot(height=300),\n",
    "    textbox=gr.Textbox(placeholder=\"Type Question Here\", container=False, scale=3),\n",
    "    title=\"Unhelpful Assistant\",\n",
    "    description=\"Ask me a question and I will give you an unhelpful answer\",\n",
    "    theme=\"ocean\",\n",
    "    examples=[\"Are tomatoes a vegetable\", \"What is the capital of France\", \"Is yes no and a no a yes\"]\n",
    "    # cache_examples=True\n",
    "    ).launch()"
   ]
  },
  {
   "cell_type": "markdown",
   "metadata": {},
   "source": [
    "# Scrapping website to create brochure"
   ]
  },
  {
   "cell_type": "code",
   "execution_count": 4,
   "metadata": {},
   "outputs": [],
   "source": [
    "import requests\n",
    "from bs4 import BeautifulSoup"
   ]
  },
  {
   "cell_type": "code",
   "execution_count": 17,
   "metadata": {},
   "outputs": [],
   "source": [
    "url = \"https://hashpotato.io/\""
   ]
  },
  {
   "cell_type": "code",
   "execution_count": 43,
   "metadata": {},
   "outputs": [],
   "source": [
    "res = requests.get(url)\n",
    "soup = BeautifulSoup(res.content, 'html.parser')\n",
    "# print(soup.body(\"nav\"))"
   ]
  },
  {
   "cell_type": "code",
   "execution_count": 16,
   "metadata": {},
   "outputs": [],
   "source": [
    "class Website:\n",
    "    \"\"\"\n",
    "    A utility class to represent the website to scrape\n",
    "    \"\"\"\n",
    "\n",
    "    def __init__(self, url):\n",
    "        self.url = url\n",
    "        response = requests.get(url)\n",
    "        self.body = response.content\n",
    "        soup = BeautifulSoup(self.body, 'html.parser')\n",
    "        self.title = soup.title.string if soup.title else \"No title found\"\n",
    "\n",
    "        # removing irrelevant information\n",
    "        if soup.body:\n",
    "            for irr in soup.body([\"script\",\"style\",\"img\",\"input\"]):\n",
    "                irr.decompose()\n",
    "            self.text = soup.body.get_text(separator=\"\\n\", strip=True)\n",
    "        else:\n",
    "            self.text = \"\"\n",
    "\n",
    "        links = [link.get('href') for link in soup.find_all('a')]\n",
    "        self.links = [link for link in links if link]\n",
    "\n",
    "    def get_contents(self):\n",
    "        return f\"Webpage Title:\\n{self.title}\\nWebpage Contents:\\n{self.text}\\n\\n\""
   ]
  },
  {
   "cell_type": "code",
   "execution_count": 20,
   "metadata": {},
   "outputs": [],
   "source": [
    "website = Website(url)"
   ]
  },
  {
   "cell_type": "code",
   "execution_count": 113,
   "metadata": {},
   "outputs": [
    {
     "data": {
      "text/plain": [
       "\"Home\\nAbout Us\\nPortfolio\\nServices\\nTestimonials\\nCareers\\nBook a Call\\nBook a Call\\nNEW\\nhashpotato.design is live now\\nProviding you with\\nVisual Creatives\\nProduct Design\\nMVP Development\\nTechnical Consultancy\\nDecentralized Solutions\\nDeployment & Support\\nResearch & Development\\nVisual Creatives\\nProduct Design\\nMVP Development\\nTechnical Consultancy\\nDecentralized Solutions\\nDeployment & Support\\nResearch & Development\\nA commitment that guarantees a beneficial partnership that is proven through successful resultant products. We assure you that you’ll have a great experience working with us.\\nGet in Touch\\nCompanies We Worked With\\nWe’ve partnered with top companies across various industries, delivering exceptional design and development solutions.\\nAbout Us\\nPioneering Digital Innovation Across 30+ Countries\\nWe’re proud to deliver cutting-edge, expert solutions that transform businesses and drive innovation. Our expertise knows no boundaries, enabling us to partner with clients around the world to achieve extraordinary results.\\nClient-Centric Approach\\nWe prioritize your satisfaction, tailoring our services to meet your specific requirements and ensure optimal outcomes.\\nExpert Team\\nOur team comprises professionals with expertise across various technologies, ensuring top-quality results.\\nInnovative Solutions\\nWe leverage technology to create solutions that address your unique challenges, driving growth and efficiency.\\nSee What We've Built\\nSee real examples of how we’ve helped businesses achieve their goals with our tailored digital solutions.\\nNomos\\nNomos offers direct dApp interchain connectivity (Chain Abstraction\\nas a Service) to ecosystems, chains, projects, and developers.\\nKusa\\nKUSA is a social app for the Korean community in the United States. It offers a one-stop solution to enhance connectivity and engagement.\\nSkalable\\nThe avant-garde decentralized exchange (DEX) that’s setting new standards in crypto trading.\\nCharta\\nCharta is a cutting-edge ride-hailing app designed to offer fast, reliable, and affordable transportation solutions.\\nServices We Offer\\nWe provide services from tech to design.\\nBRANDING &\\nVISUAL IDENTITY\\nCraft unique, eye-catching brands that distinctively elevate your business profile and market presence.\\nUX/UI RESEARCH\\n& DESIGN\\nDevelop easy-to-use, engaging interfaces with deep user research to ensure satisfaction and usability.\\nWEB & MOBILE APP\\u2028DEVELOPMENT\\nBuild reliable digital products meticulously tailored to meet contemporary business needs.\\nLOW CODE / NO CODE DEVELOPMENT\\nCustomize CMS website using low/no-code tools like WordPress, Framer, WebFlow & Squarespace\\nBLOCKCHAIN SOLUTIONS\\nImplement secure, innovative blockchain technologies to enhance and empower your business operations.\\nAI SOLUTIONS &  AUTOMATION\\nIntegrate advanced AI solutions to automate processes, and deliver personalized experiences.\\nCRAFTING INNOVATIVE\\nDIGITAL SOLUTIONS, BLENDING CREATIVITY\\nWITH TECHNOLOGY\\nTO TRANSFORM YOUR IDEAS\\nINTO SUCCESSFUL REALITIES.\\nWhat Our Clients Are Saying\\nDon’t just take our word for it – here’s what some of our satisfied users have to say\\nClaudio M.\\nNexus Mutual\\nThe team delivered good work and I enjoyed working with them. Their communication was top-notch, they met all deadlines, and their skills were strong. At one point I asked for an additional milestone and they were very forthcoming that the additional work was outside their area of expertise. I enjoyed working with hashpotato and will likely have additional jobs for them in the future.\\nAndrea B.\\nKaliperyon\\nThe hashpotato team is great, I totally recommend them for a job well done, with a proactive attitude and organized approach. I am impressed by their dedication and abilities. Will surely rehire. Thank you guys!\\nSoonbong K.\\nKUSA\\nThey are the best team you could imagine! I will hire this team again if I have next project!\\nNagesh A.\\nTezoro\\nExcellent work by the team. They understood the requirements and did a good job of translating to UI design without need to repeat the requirements. Team responded well to feedback and was able to replicate the ask when provided with suitable examples. Look forward to working with the team again!\\nStephen H.\\nByte Insights\\nI needed branding, logo design and CSS for a website and this is how my experience was:\\nThe colours chosen and style were top notch\\nProvided all the documentation on request\\nClear communication and a can do attitude\\nZeeshan G.\\nSearch The Quran\\nIt has been an absolute pleasure working with them. They are a very talented design team and came up with really nice ideas in regard to the user experience and the logo. Most important was their positive and can-do attitude.\\nI apologise for taking a bit longer to provide feedback at times. The team lead is a very patient person. Turn around time was very quick.\\nI highly recommend them to anyone wanting to build a new or improve an existing UI/UX or logo.\\nClaudio M.\\nNexus Mutual\\nThe team delivered good work and I enjoyed working with them. Their communication was top-notch, they met all deadlines, and their skills were strong. At one point I asked for an additional milestone and they were very forthcoming that the additional work was outside their area of expertise. I enjoyed working with hashpotato and will likely have additional jobs for them in the future.\\nZeeshan G.\\nSearch The Quran\\nIt has been an absolute pleasure working with them. They are a very talented design team and came up with really nice ideas in regard to the user experience and the logo. Most important was their positive and can-do attitude.\\nI apologise for taking a bit longer to provide feedback at times. The team lead is a very patient person. Turn around time was very quick.\\nI highly recommend them to anyone wanting to build a new or improve an existing UI/UX or logo.\\nAndrea B.\\nKaliperyon\\nThe hashpotato team is great, I totally recommend them for a job well done, with a proactive attitude and organized approach. I am impressed by their dedication and abilities. Will surely rehire. Thank you guys!\\nStephen H.\\nByte Insights\\nI needed branding, logo design and CSS for a website and this is how my experience was:\\nThe colours chosen and style were top notch\\nProvided all the documentation on request\\nClear communication and a can do attitude\\nSoonbong K.\\nKUSA\\nThey are the best team you could imagine! I will hire this team again if I have next project!\\nNagesh A.\\nTezoro\\nExcellent work by the team. They understood the requirements and did a good job of translating to UI design without need to repeat the requirements. Team responded well to feedback and was able to replicate the ask when provided with suitable examples. Look forward to working with the team again!\\nGeorge B.\\nEgg Heads Club\\nThey delivered excellent work on our NFTs minting and blockchain development project, and it was a pleasure to work with them. Their communication throughout the project was exceptional, and they always met the deadlines we set. Their skills in website development and blockchain were impressive, and they were able to deliver high-quality work that met our expectations.\\nOverall, we had a great experience working with hashpotato, and we will definitely consider them for future projects involving NFTs, blockchain development, and website development.\\nWe highly recommend hashpotato to anyone looking for a skilled and reliable freelancer in these areas.\\nJoin Our Team\\nWe are always on the lookout for talented\\nindividuals. Checkout our job openings.\\nView Open Positions\\nUnited States\\n+1 347 587 8695\\n2301, 447 Broadway, 2nd Floor, New York, NY, 10013\\nPakistan\\n+92 324 127 0169\\nPlot# A-197, Block 13D-1 Gulshan-e-Iqbal, Karachi, 75300\\nReach out to us\\nbusiness@hashpotato.io\\nHome\\nAbout Us\\nPortfolio\\nServices\\nTestimonials\\nCareers\\nContact\\nCopyright: © 2024 hashpotato. All Rights Reserved.\\nHome\\nAbout Us\\nPortfolio\\nServices\\nTestimonials\\nCareers\\nBook a Call\""
      ]
     },
     "execution_count": 113,
     "metadata": {},
     "output_type": "execute_result"
    }
   ],
   "source": [
    "website.text"
   ]
  },
  {
   "cell_type": "code",
   "execution_count": 81,
   "metadata": {},
   "outputs": [],
   "source": [
    "def get_url_from_prompt(prompt):\n",
    "\n",
    "    words = [word for word in prompt.split(\" \")]\n",
    "    url = [word for word in words if 'http' in word]\n",
    "\n",
    "    return url"
   ]
  },
  {
   "cell_type": "code",
   "execution_count": 114,
   "metadata": {},
   "outputs": [],
   "source": [
    "def brochure_bot(prompt, history):\n",
    "\n",
    "    system_prompt = \"You are a creative writing assistant\"\n",
    "    system_prompt += \" and your job is to help write a brochure for the company that the user provides.\"\n",
    "    system_prompt += \" Make sure to keep your responses professional and formal.\"\n",
    "    system_prompt += \" If you do not know information to a question the user provides,\"\n",
    "    system_prompt += \" mention clearly that you do not know the answer.\"\n",
    "\n",
    "    url = get_url_from_prompt(prompt)\n",
    "    try:\n",
    "        website_info = Website(url[0]).text\n",
    "        prompt += website_info\n",
    "    except:\n",
    "        prompt += \"No URL provided\"\n",
    "\n",
    "    messages = [\n",
    "        {\"role\":\"assistant\", \"content\":system_prompt},\n",
    "        {\"role\":\"user\", \"content\":prompt}\n",
    "    ]\n",
    "\n",
    "    result = ollama.chat(\n",
    "        model=\"llama2\",\n",
    "        messages=messages,\n",
    "        stream=True         # allows us to stream the resulting response instead of displaying the entire output at once\n",
    "        )\n",
    "    \n",
    "    # streaming the response from the model\n",
    "    # this prints out each output token form the model to have the resulting text displayed in real time\n",
    "    response = \"\"\n",
    "    for chunk in result:\n",
    "        if 'message' in chunk and 'content' in chunk['message']:\n",
    "            chunk_text = chunk['message']['content']\n",
    "            response += chunk_text or \"\"\n",
    "            yield response"
   ]
  },
  {
   "cell_type": "code",
   "execution_count": 112,
   "metadata": {},
   "outputs": [
    {
     "name": "stderr",
     "output_type": "stream",
     "text": [
      "/home/shaheer/Documents/community-projects/ongoing/SDS-CP019-local-ai-writing-assistant/.venv/lib/python3.12/site-packages/gradio/components/chatbot.py:242: UserWarning: You have not specified a value for the `type` parameter. Defaulting to the 'tuples' format for chatbot messages, but this is deprecated and will be removed in a future version of Gradio. Please set type='messages' instead, which uses openai-style dictionaries with 'role' and 'content' keys.\n",
      "  warnings.warn(\n",
      "/home/shaheer/Documents/community-projects/ongoing/SDS-CP019-local-ai-writing-assistant/.venv/lib/python3.12/site-packages/gradio/chat_interface.py:222: UserWarning: The type of the gr.Chatbot does not match the type of the gr.ChatInterface.The type of the gr.ChatInterface, 'messages', will be used.\n",
      "  warnings.warn(\n"
     ]
    },
    {
     "name": "stdout",
     "output_type": "stream",
     "text": [
      "* Running on local URL:  http://127.0.0.1:7870\n",
      "\n",
      "To create a public link, set `share=True` in `launch()`.\n"
     ]
    },
    {
     "data": {
      "text/html": [
       "<div><iframe src=\"http://127.0.0.1:7870/\" width=\"100%\" height=\"500\" allow=\"autoplay; camera; microphone; clipboard-read; clipboard-write;\" frameborder=\"0\" allowfullscreen></iframe></div>"
      ],
      "text/plain": [
       "<IPython.core.display.HTML object>"
      ]
     },
     "metadata": {},
     "output_type": "display_data"
    },
    {
     "data": {
      "text/plain": []
     },
     "execution_count": 112,
     "metadata": {},
     "output_type": "execute_result"
    }
   ],
   "source": [
    "# using the same interface as before for the time being\n",
    "gr.ChatInterface(\n",
    "    fn=brochure_bot,\n",
    "    type=\"messages\",\n",
    "    chatbot=gr.Chatbot(height=300),\n",
    "    textbox=gr.Textbox(placeholder=\"Type Question Here\", container=False, scale=3),\n",
    "    title=\"Brochure bot\",\n",
    "    description=\"Give me the link to a website for which you want to generate a brochure\",\n",
    "    theme=\"ocean\"\n",
    "    # examples=[\"Are tomatoes a vegetable\", \"What is the capital of France\", \"Is yes no and a no a yes\"]\n",
    "    # cache_examples=True\n",
    "    ).launch()"
   ]
  },
  {
   "cell_type": "code",
   "execution_count": null,
   "metadata": {},
   "outputs": [],
   "source": []
  }
 ],
 "metadata": {
  "kernelspec": {
   "display_name": ".venv",
   "language": "python",
   "name": "python3"
  },
  "language_info": {
   "codemirror_mode": {
    "name": "ipython",
    "version": 3
   },
   "file_extension": ".py",
   "mimetype": "text/x-python",
   "name": "python",
   "nbconvert_exporter": "python",
   "pygments_lexer": "ipython3",
   "version": "3.12.3"
  }
 },
 "nbformat": 4,
 "nbformat_minor": 2
}
