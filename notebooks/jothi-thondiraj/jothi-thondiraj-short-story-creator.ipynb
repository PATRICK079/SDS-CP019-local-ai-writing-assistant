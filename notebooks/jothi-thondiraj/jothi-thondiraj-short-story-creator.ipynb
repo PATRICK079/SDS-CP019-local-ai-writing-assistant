{
 "cells": [
  {
   "cell_type": "code",
   "execution_count": 4,
   "metadata": {},
   "outputs": [],
   "source": [
    "# pip install ollama"
   ]
  },
  {
   "cell_type": "code",
   "execution_count": 3,
   "metadata": {},
   "outputs": [],
   "source": [
    "import ollama"
   ]
  },
  {
   "cell_type": "code",
   "execution_count": 5,
   "metadata": {},
   "outputs": [],
   "source": [
    "prompt = 'generate a short fantasy story like citadel series'"
   ]
  },
  {
   "cell_type": "code",
   "execution_count": 6,
   "metadata": {},
   "outputs": [],
   "source": [
    "response = ollama.chat(model='llama2',messages=[{'role':'user','content':prompt}])"
   ]
  },
  {
   "cell_type": "code",
   "execution_count": 7,
   "metadata": {},
   "outputs": [
    {
     "name": "stdout",
     "output_type": "stream",
     "text": [
      "In the realm of Eldrador, where magic and technology coexisted in a world of wonder and discovery, the Citadel Series had long been revered as the ultimate source of knowledge and power. The mystical energies of the ancient artifacts within its hallowed halls had guided countless civilizations towards greatness, but also threatened to consume those who sought to wield their immense power without restraint.\n",
      "\n",
      "In the bustling metropolis of Eldrador City, a young orphan named Kaelin had always felt an inexplicable connection to the Citadel Series. Despite his humble upbringing and lack of formal education, he possessed an uncanny ability to comprehend the intricacies of its ancient spells and technologies. As fate would have it, a chance encounter with a powerful sorceress named Lyra would soon change the course of Kaelin's life forever.\n",
      "\n",
      "Lyra, a renowned scholar of the Citadel Series, had long been searching for a protégé worthy of inheriting her vast knowledge and expertise. Recognizing something special in the young orphan, she took him under her wing and began to teach him the intricacies of the ancient spells and technologies that lay beyond the reach of most mortals.\n",
      "\n",
      "As Kaelin's abilities grew stronger, he discovered that his bond with Lyra went far beyond mere mentorship. He was born with a rare genetic mutation that allowed him to harness the mystical energies of the Citadel Series in a way no one else could. The ancient artifacts seemed to recognize this unique connection and bestowed upon Kaelin incredible powers, making him a being of near-legendary status within the realm of Eldrador.\n",
      "\n",
      "With Lyra by his side, Kaelin set out on a quest to uncover the secrets of the Citadel Series and protect its ancient knowledge from those who would seek to misuse it. Their journey took them across the vast expanse of Eldrador, from the towering crystal caverns of the frozen north to the scorching sands of the endless deserts below. Along the way, they encountered numerous challenges and adversaries, but Kaelin's unparalleled mastery of the Citadel Series and Lyra's cunning strategies always kept them one step ahead.\n",
      "\n",
      "As their legend grew, Kaelin and Lyra became beacons of hope for a realm threatened by dark forces seeking to undermine the balance of power. The ancient artifacts seemed to recognize their bond and lent them additional strength in their quest to defend Eldrador against those who would seek to destroy it.\n",
      "\n",
      "In the end, Kaelin and Lyra emerged victorious over their adversaries and ensured the safety of the Citadel Series for generations to come. Their names became synonymous with bravery and wisdom, and their legacy continued to inspire others to strive for greatness in a world filled with both wonder and danger.\n",
      "\n",
      "The Citadel Series had long been a source of mystery and awe, but Kaelin's unprecedented connection to its ancient energies had transformed him into a being of near-mythical proportions. His story would serve as a reminder to all in Eldrador that even the humblest of beginnings could lead to incredible feats of magic and technology, as long as one possessed the courage and determination to never stop learning and growing.\n"
     ]
    }
   ],
   "source": [
    "print(response['message']['content'])"
   ]
  },
  {
   "cell_type": "code",
   "execution_count": 8,
   "metadata": {},
   "outputs": [],
   "source": [
    "from IPython.display import Markdown, display"
   ]
  },
  {
   "cell_type": "code",
   "execution_count": 10,
   "metadata": {},
   "outputs": [
    {
     "data": {
      "text/markdown": [
       "LLM Response: In the realm of Eldrador, where magic and technology coexisted in a world of wonder and discovery, the Citadel Series had long been revered as the ultimate source of knowledge and power. The mystical energies of the ancient artifacts within its hallowed halls had guided countless civilizations towards greatness, but also threatened to consume those who sought to wield their immense power without restraint.\n",
       "\n",
       "In the bustling metropolis of Eldrador City, a young orphan named Kaelin had always felt an inexplicable connection to the Citadel Series. Despite his humble upbringing and lack of formal education, he possessed an uncanny ability to comprehend the intricacies of its ancient spells and technologies. As fate would have it, a chance encounter with a powerful sorceress named Lyra would soon change the course of Kaelin's life forever.\n",
       "\n",
       "Lyra, a renowned scholar of the Citadel Series, had long been searching for a protégé worthy of inheriting her vast knowledge and expertise. Recognizing something special in the young orphan, she took him under her wing and began to teach him the intricacies of the ancient spells and technologies that lay beyond the reach of most mortals.\n",
       "\n",
       "As Kaelin's abilities grew stronger, he discovered that his bond with Lyra went far beyond mere mentorship. He was born with a rare genetic mutation that allowed him to harness the mystical energies of the Citadel Series in a way no one else could. The ancient artifacts seemed to recognize this unique connection and bestowed upon Kaelin incredible powers, making him a being of near-legendary status within the realm of Eldrador.\n",
       "\n",
       "With Lyra by his side, Kaelin set out on a quest to uncover the secrets of the Citadel Series and protect its ancient knowledge from those who would seek to misuse it. Their journey took them across the vast expanse of Eldrador, from the towering crystal caverns of the frozen north to the scorching sands of the endless deserts below. Along the way, they encountered numerous challenges and adversaries, but Kaelin's unparalleled mastery of the Citadel Series and Lyra's cunning strategies always kept them one step ahead.\n",
       "\n",
       "As their legend grew, Kaelin and Lyra became beacons of hope for a realm threatened by dark forces seeking to undermine the balance of power. The ancient artifacts seemed to recognize their bond and lent them additional strength in their quest to defend Eldrador against those who would seek to destroy it.\n",
       "\n",
       "In the end, Kaelin and Lyra emerged victorious over their adversaries and ensured the safety of the Citadel Series for generations to come. Their names became synonymous with bravery and wisdom, and their legacy continued to inspire others to strive for greatness in a world filled with both wonder and danger.\n",
       "\n",
       "The Citadel Series had long been a source of mystery and awe, but Kaelin's unprecedented connection to its ancient energies had transformed him into a being of near-mythical proportions. His story would serve as a reminder to all in Eldrador that even the humblest of beginnings could lead to incredible feats of magic and technology, as long as one possessed the courage and determination to never stop learning and growing."
      ],
      "text/plain": [
       "<IPython.core.display.Markdown object>"
      ]
     },
     "metadata": {},
     "output_type": "display_data"
    }
   ],
   "source": [
    "display(Markdown(f'LLM Response: {response['message']['content']}'))"
   ]
  },
  {
   "cell_type": "code",
   "execution_count": null,
   "metadata": {},
   "outputs": [],
   "source": []
  }
 ],
 "metadata": {
  "kernelspec": {
   "display_name": "Azure_end_to_end_project",
   "language": "python",
   "name": "python3"
  },
  "language_info": {
   "codemirror_mode": {
    "name": "ipython",
    "version": 3
   },
   "file_extension": ".py",
   "mimetype": "text/x-python",
   "name": "python",
   "nbconvert_exporter": "python",
   "pygments_lexer": "ipython3",
   "version": "3.12.2"
  }
 },
 "nbformat": 4,
 "nbformat_minor": 2
}
